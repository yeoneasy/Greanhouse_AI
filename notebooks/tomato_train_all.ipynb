{
  "cells": [
    {
      "cell_type": "code",
      "execution_count": null,
      "metadata": {
        "colab": {
          "base_uri": "https://localhost:8080/"
        },
        "id": "JsJefY2HVYW7",
        "outputId": "6e8ba350-5304-4075-84ba-e3b356a1b0da"
      },
      "outputs": [
        {
          "name": "stdout",
          "output_type": "stream",
          "text": [
            "Mounted at /content/drive\n"
          ]
        }
      ],
      "source": [
        "import sqlite3\n",
        "import pandas as pd\n",
        "import numpy as np\n",
        "import random\n",
        "import torch\n",
        "import torch.nn as nn\n",
        "import torch.optim as optim\n",
        "from google.colab import drive\n",
        "from sklearn.preprocessing import MinMaxScaler\n",
        "from torch.utils.data import DataLoader, TensorDataset\n",
        "import matplotlib.pyplot as plt\n",
        "from tqdm import tqdm\n",
        "\n",
        "drive.mount('/content/drive')"
      ]
    },
    {
      "cell_type": "code",
      "execution_count": null,
      "metadata": {
        "id": "_HLd7F0Jy2Z9"
      },
      "outputs": [],
      "source": [
        "# 시드 고정 코드\n",
        "def set_seed(seed):\n",
        "    random.seed(seed)\n",
        "    np.random.seed(seed)\n",
        "    torch.manual_seed(seed)\n",
        "    torch.cuda.manual_seed(seed)\n",
        "    torch.backends.cudnn.deterministic = True\n",
        "    torch.backends.cudnn.benchmark = False\n",
        "\n",
        "set_seed(42)"
      ]
    },
    {
      "cell_type": "code",
      "execution_count": null,
      "metadata": {
        "id": "Jh5ZQ5nsVg1f"
      },
      "outputs": [],
      "source": [
        "# 데이터 로드 함수 정의 (데이터 전체 사용)\n",
        "def load_data(db_path, year):\n",
        "    with sqlite3.connect(db_path) as conn:\n",
        "        df = pd.read_sql(f\"SELECT * FROM '{year}'\", conn)\n",
        "    df = df.drop(columns=['저장시간']).select_dtypes(include=[np.number])\n",
        "    df = df.interpolate(method='linear', limit_direction='both')  # 결측치 보간\n",
        "    return df"
      ]
    },
    {
      "cell_type": "code",
      "execution_count": null,
      "metadata": {
        "id": "Ql70IYUCThle"
      },
      "outputs": [],
      "source": [
        "# 데이터셋 경로\n",
        "db_paths = {\n",
        "    \"Iksan\": \"/content/drive/MyDrive/Tomato_db/Iksan.db\",\n",
        "    \"Jeongeup\": \"/content/drive/MyDrive/Tomato_db/Jeongeup.db\",\n",
        "    \"Sacheon_Kang\": \"/content/drive/MyDrive/Tomato_db/Sacheon_Kang.db\",\n",
        "    \"Sacheon_Kim\": \"/content/drive/MyDrive/Tomato_db/Sacheon_Kim.db\"\n",
        "}\n",
        "\n",
        "# 데이터 로드\n",
        "data_sources = {\n",
        "    \"Iksan\": {year: load_data(db_paths[\"Iksan\"], year) for year in ['2018', '2019', '2020', '2021', '2022']},\n",
        "    \"Jeongeup\": {year: load_data(db_paths[\"Jeongeup\"], year) for year in ['2018', '2019', '2020', '2021', '2022']},\n",
        "    \"Sacheon_Kang\": {year: load_data(db_paths[\"Sacheon_Kang\"], year) for year in ['2018', '2019', '2020', '2021', '2022']},\n",
        "    \"Sacheon_Kim\": {year: load_data(db_paths[\"Sacheon_Kim\"], year) for year in ['2020', '2021', '2022']}\n",
        "}\n",
        "\n",
        "# 데이터 병합\n",
        "train_data = pd.concat([\n",
        "    data_sources[\"Iksan\"]['2018'], data_sources[\"Iksan\"]['2019'], data_sources[\"Iksan\"]['2020'],\n",
        "    data_sources[\"Jeongeup\"]['2018'], data_sources[\"Jeongeup\"]['2019'], data_sources[\"Jeongeup\"]['2020'],\n",
        "    data_sources[\"Sacheon_Kang\"]['2018'], data_sources[\"Sacheon_Kang\"]['2019'], data_sources[\"Sacheon_Kang\"]['2020'],\n",
        "    data_sources[\"Sacheon_Kim\"]['2020']\n",
        "], axis=0)\n",
        "\n",
        "val_data = pd.concat([\n",
        "    data_sources[\"Iksan\"]['2021'], data_sources[\"Jeongeup\"]['2021'], data_sources[\"Sacheon_Kang\"]['2021'],\n",
        "    data_sources[\"Sacheon_Kim\"]['2021']\n",
        "], axis=0)\n",
        "\n",
        "test_data = pd.concat([\n",
        "    data_sources[\"Iksan\"]['2022'], data_sources[\"Jeongeup\"]['2022'], data_sources[\"Sacheon_Kang\"]['2022'],\n",
        "    data_sources[\"Sacheon_Kim\"]['2022']\n",
        "], axis=0)\n"
      ]
    },
    {
      "cell_type": "code",
      "execution_count": null,
      "metadata": {
        "id": "bHFp-bH2Vctg"
      },
      "outputs": [],
      "source": [
        "config = {\n",
        "    \"sequence_length\": 30,\n",
        "    \"batch_size\": 1024,\n",
        "    \"hidden_size\": 512,\n",
        "    \"num_layers\": 1,\n",
        "    \"dropout_rate\": 0,\n",
        "    \"learning_rate\": 0.0001,\n",
        "    \"num_epochs\": 100,\n",
        "    \"target_column\": \"내부온도\",\n",
        "    \"feature_columns\": ['내부온도', '외부온도', '풍향', '풍속', '일사량', '누적일사량', '감우'],\n",
        "    \"model_type\": \"LSTM\"  # \"LSTM\", \"GRU\", \"RNN\" 중 하나를 선택\n",
        "}"
      ]
    },
    {
      "cell_type": "code",
      "execution_count": null,
      "metadata": {
        "id": "1eFf05TUUVyQ"
      },
      "outputs": [],
      "source": [
        "# 데이터 전처리\n",
        "def preprocess_data(df, scaler=None, fit_scaler=False):\n",
        "    if fit_scaler:\n",
        "        scaler = MinMaxScaler().fit(df[config[\"feature_columns\"] + [config[\"target_column\"]]])\n",
        "    scaled = scaler.transform(df[config[\"feature_columns\"] + [config[\"target_column\"]]])\n",
        "\n",
        "    x = np.array([scaled[i-config[\"sequence_length\"]:i, :len(config[\"feature_columns\"])]\n",
        "                  for i in range(config[\"sequence_length\"], len(scaled))])\n",
        "    y = np.array([scaled[i, len(config[\"feature_columns\"]):] for i in range(config[\"sequence_length\"], len(scaled))])\n",
        "\n",
        "    return torch.tensor(x, dtype=torch.float32), torch.tensor(y, dtype=torch.float32), scaler"
      ]
    },
    {
      "cell_type": "code",
      "execution_count": null,
      "metadata": {
        "id": "0s-hukHOkd8e"
      },
      "outputs": [],
      "source": [
        "# 스케일러 설정 및 데이터 전처리\n",
        "scaler = MinMaxScaler()\n",
        "scaler.fit(pd.concat([train_data, val_data, test_data])[config[\"feature_columns\"] + [config[\"target_column\"]]])\n",
        "\n",
        "x_train, y_train, _ = preprocess_data(train_data, scaler, fit_scaler=False)\n",
        "x_val, y_val, _ = preprocess_data(val_data, scaler, fit_scaler=False)\n",
        "x_test, y_test, _ = preprocess_data(test_data, scaler, fit_scaler=False)\n",
        "\n",
        "# DataLoader 생성\n",
        "train_loader = DataLoader(TensorDataset(x_train, y_train), batch_size=config[\"batch_size\"], shuffle=True)\n",
        "val_loader = DataLoader(TensorDataset(x_val, y_val), batch_size=config[\"batch_size\"], shuffle=False)\n",
        "test_loader = DataLoader(TensorDataset(x_test, y_test), batch_size=config[\"batch_size\"], shuffle=False)"
      ]
    },
    {
      "cell_type": "code",
      "execution_count": null,
      "metadata": {
        "id": "ahNpFYwFkglI"
      },
      "outputs": [],
      "source": [
        "# RNN 모델 정의\n",
        "class RNNModel(nn.Module):\n",
        "    def __init__(self, input_size, hidden_size, output_size, num_layers, dropout_rate):\n",
        "        super().__init__()\n",
        "        self.rnn = nn.RNN(input_size, hidden_size, num_layers, batch_first=True, dropout=dropout_rate, nonlinearity='tanh')\n",
        "        self.fc = nn.Sequential(\n",
        "            nn.Dropout(dropout_rate),\n",
        "            nn.Linear(hidden_size, 12),\n",
        "            nn.ReLU(),\n",
        "            nn.Linear(12, output_size)\n",
        "        )\n",
        "\n",
        "    def forward(self, x):\n",
        "        out, _ = self.rnn(x)\n",
        "        return self.fc(out[:, -1, :])\n",
        "\n",
        "# LSTM 모델 정의\n",
        "class LSTMModel(nn.Module):\n",
        "    def __init__(self, input_size, hidden_size, output_size, num_layers, dropout_rate):\n",
        "        super().__init__()\n",
        "        self.lstm = nn.LSTM(input_size, hidden_size, num_layers, batch_first=True, dropout=dropout_rate)\n",
        "        self.fc = nn.Sequential(\n",
        "            nn.Dropout(dropout_rate),\n",
        "            nn.Linear(hidden_size, 12),\n",
        "            nn.ReLU(),\n",
        "            nn.Linear(12, output_size)\n",
        "        )\n",
        "\n",
        "    def forward(self, x):\n",
        "        out, _ = self.lstm(x)\n",
        "        return self.fc(out[:, -1, :])\n",
        "\n",
        "# GRU 모델 정의\n",
        "class GRUModel(nn.Module):\n",
        "    def __init__(self, input_size, hidden_size, output_size, num_layers, dropout_rate):\n",
        "        super().__init__()\n",
        "        self.gru = nn.GRU(input_size, hidden_size, num_layers, batch_first=True, dropout=dropout_rate)\n",
        "        self.fc = nn.Sequential(\n",
        "            nn.Dropout(dropout_rate),\n",
        "            nn.Linear(hidden_size, 12),\n",
        "            nn.ReLU(),\n",
        "            nn.Linear(12, output_size)\n",
        "        )\n",
        "\n",
        "    def forward(self, x):\n",
        "        out, _ = self.gru(x)\n",
        "        return self.fc(out[:, -1, :])\n",
        "\n",
        "# 모델 선택 함수\n",
        "def select_model(model_type, input_size, hidden_size, output_size, num_layers, dropout_rate):\n",
        "    if model_type == \"LSTM\":\n",
        "        return LSTMModel(input_size, hidden_size, output_size, num_layers, dropout_rate)\n",
        "    elif model_type == \"GRU\":\n",
        "        return GRUModel(input_size, hidden_size, output_size, num_layers, dropout_rate)\n",
        "    elif model_type == \"RNN\":\n",
        "        return RNNModel(input_size, hidden_size, output_size, num_layers, dropout_rate)\n",
        "    else:\n",
        "        raise ValueError(\"Invalid model type. Choose from 'LSTM', 'GRU', or 'RNN'.\")"
      ]
    },
    {
      "cell_type": "code",
      "execution_count": null,
      "metadata": {
        "colab": {
          "background_save": true,
          "base_uri": "https://localhost:8080/"
        },
        "id": "a7Wd740TfeZf",
        "outputId": "ae6ba901-53b7-4175-a494-2602432ff967"
      },
      "outputs": [
        {
          "name": "stderr",
          "output_type": "stream",
          "text": [
            ""
          ]
        },
        {
          "name": "stdout",
          "output_type": "stream",
          "text": [
            "Epoch 1, Training Loss: 0.0003091, Validation Loss: 0.0000218\n"
          ]
        },
        {
          "name": "stderr",
          "output_type": "stream",
          "text": [
            ""
          ]
        },
        {
          "name": "stdout",
          "output_type": "stream",
          "text": [
            "Epoch 2, Training Loss: 0.0000176, Validation Loss: 0.0000125\n"
          ]
        },
        {
          "name": "stderr",
          "output_type": "stream",
          "text": [
            ""
          ]
        },
        {
          "name": "stdout",
          "output_type": "stream",
          "text": [
            "Epoch 3, Training Loss: 0.0000094, Validation Loss: 0.0000070\n"
          ]
        },
        {
          "name": "stderr",
          "output_type": "stream",
          "text": [
            ""
          ]
        },
        {
          "name": "stdout",
          "output_type": "stream",
          "text": [
            "Epoch 4, Training Loss: 0.0000068, Validation Loss: 0.0000051\n"
          ]
        },
        {
          "name": "stderr",
          "output_type": "stream",
          "text": [
            ""
          ]
        },
        {
          "name": "stdout",
          "output_type": "stream",
          "text": [
            "Epoch 5, Training Loss: 0.0000055, Validation Loss: 0.0000076\n"
          ]
        },
        {
          "name": "stderr",
          "output_type": "stream",
          "text": [
            ""
          ]
        },
        {
          "name": "stdout",
          "output_type": "stream",
          "text": [
            "Epoch 6, Training Loss: 0.0000049, Validation Loss: 0.0000076\n"
          ]
        },
        {
          "name": "stderr",
          "output_type": "stream",
          "text": [
            ""
          ]
        },
        {
          "name": "stdout",
          "output_type": "stream",
          "text": [
            "Epoch 7, Training Loss: 0.0000045, Validation Loss: 0.0000037\n"
          ]
        },
        {
          "name": "stderr",
          "output_type": "stream",
          "text": [
            ""
          ]
        },
        {
          "name": "stdout",
          "output_type": "stream",
          "text": [
            "Epoch 8, Training Loss: 0.0000042, Validation Loss: 0.0000045\n"
          ]
        },
        {
          "name": "stderr",
          "output_type": "stream",
          "text": [
            ""
          ]
        },
        {
          "name": "stdout",
          "output_type": "stream",
          "text": [
            "Epoch 9, Training Loss: 0.0000040, Validation Loss: 0.0000038\n"
          ]
        },
        {
          "name": "stderr",
          "output_type": "stream",
          "text": [
            ""
          ]
        },
        {
          "name": "stdout",
          "output_type": "stream",
          "text": [
            "Epoch 10, Training Loss: 0.0000039, Validation Loss: 0.0000033\n"
          ]
        },
        {
          "name": "stderr",
          "output_type": "stream",
          "text": [
            ""
          ]
        },
        {
          "name": "stdout",
          "output_type": "stream",
          "text": [
            "Epoch 11, Training Loss: 0.0000039, Validation Loss: 0.0000066\n"
          ]
        },
        {
          "name": "stderr",
          "output_type": "stream",
          "text": [
            ""
          ]
        },
        {
          "name": "stdout",
          "output_type": "stream",
          "text": [
            "Epoch 12, Training Loss: 0.0000038, Validation Loss: 0.0000036\n"
          ]
        },
        {
          "name": "stderr",
          "output_type": "stream",
          "text": [
            ""
          ]
        },
        {
          "name": "stdout",
          "output_type": "stream",
          "text": [
            "Epoch 13, Training Loss: 0.0000038, Validation Loss: 0.0000042\n"
          ]
        },
        {
          "name": "stderr",
          "output_type": "stream",
          "text": [
            ""
          ]
        },
        {
          "name": "stdout",
          "output_type": "stream",
          "text": [
            "Epoch 14, Training Loss: 0.0000037, Validation Loss: 0.0000034\n"
          ]
        },
        {
          "name": "stderr",
          "output_type": "stream",
          "text": [
            ""
          ]
        },
        {
          "name": "stdout",
          "output_type": "stream",
          "text": [
            "Epoch 15, Training Loss: 0.0000037, Validation Loss: 0.0000034\n"
          ]
        },
        {
          "name": "stderr",
          "output_type": "stream",
          "text": [
            ""
          ]
        },
        {
          "name": "stdout",
          "output_type": "stream",
          "text": [
            "Epoch 16, Training Loss: 0.0000037, Validation Loss: 0.0000033\n"
          ]
        },
        {
          "name": "stderr",
          "output_type": "stream",
          "text": [
            ""
          ]
        },
        {
          "name": "stdout",
          "output_type": "stream",
          "text": [
            "Epoch 17, Training Loss: 0.0000037, Validation Loss: 0.0000033\n"
          ]
        },
        {
          "name": "stderr",
          "output_type": "stream",
          "text": [
            ""
          ]
        },
        {
          "name": "stdout",
          "output_type": "stream",
          "text": [
            "Epoch 18, Training Loss: 0.0000037, Validation Loss: 0.0000032\n"
          ]
        },
        {
          "name": "stderr",
          "output_type": "stream",
          "text": [
            ""
          ]
        },
        {
          "name": "stdout",
          "output_type": "stream",
          "text": [
            "Epoch 19, Training Loss: 0.0000037, Validation Loss: 0.0000037\n"
          ]
        },
        {
          "name": "stderr",
          "output_type": "stream",
          "text": [
            ""
          ]
        },
        {
          "name": "stdout",
          "output_type": "stream",
          "text": [
            "Epoch 20, Training Loss: 0.0000036, Validation Loss: 0.0000033\n"
          ]
        },
        {
          "name": "stderr",
          "output_type": "stream",
          "text": [
            ""
          ]
        },
        {
          "name": "stdout",
          "output_type": "stream",
          "text": [
            "Epoch 21, Training Loss: 0.0000036, Validation Loss: 0.0000032\n"
          ]
        },
        {
          "name": "stderr",
          "output_type": "stream",
          "text": [
            ""
          ]
        },
        {
          "name": "stdout",
          "output_type": "stream",
          "text": [
            "Epoch 22, Training Loss: 0.0000036, Validation Loss: 0.0000032\n"
          ]
        },
        {
          "name": "stderr",
          "output_type": "stream",
          "text": [
            ""
          ]
        },
        {
          "name": "stdout",
          "output_type": "stream",
          "text": [
            "Epoch 23, Training Loss: 0.0000036, Validation Loss: 0.0000033\n"
          ]
        },
        {
          "name": "stderr",
          "output_type": "stream",
          "text": [
            ""
          ]
        },
        {
          "name": "stdout",
          "output_type": "stream",
          "text": [
            "Epoch 24, Training Loss: 0.0000036, Validation Loss: 0.0000034\n"
          ]
        },
        {
          "name": "stderr",
          "output_type": "stream",
          "text": [
            ""
          ]
        },
        {
          "name": "stdout",
          "output_type": "stream",
          "text": [
            "Epoch 25, Training Loss: 0.0000036, Validation Loss: 0.0000033\n"
          ]
        },
        {
          "name": "stderr",
          "output_type": "stream",
          "text": [
            ""
          ]
        },
        {
          "name": "stdout",
          "output_type": "stream",
          "text": [
            "Epoch 26, Training Loss: 0.0000036, Validation Loss: 0.0000032\n"
          ]
        },
        {
          "name": "stderr",
          "output_type": "stream",
          "text": [
            ""
          ]
        },
        {
          "name": "stdout",
          "output_type": "stream",
          "text": [
            "Epoch 27, Training Loss: 0.0000036, Validation Loss: 0.0000032\n"
          ]
        },
        {
          "name": "stderr",
          "output_type": "stream",
          "text": [
            ""
          ]
        },
        {
          "name": "stdout",
          "output_type": "stream",
          "text": [
            "Epoch 28, Training Loss: 0.0000035, Validation Loss: 0.0000032\n"
          ]
        },
        {
          "name": "stderr",
          "output_type": "stream",
          "text": [
            ""
          ]
        },
        {
          "name": "stdout",
          "output_type": "stream",
          "text": [
            "Epoch 29, Training Loss: 0.0000035, Validation Loss: 0.0000032\n"
          ]
        },
        {
          "name": "stderr",
          "output_type": "stream",
          "text": [
            ""
          ]
        },
        {
          "name": "stdout",
          "output_type": "stream",
          "text": [
            "Epoch 30, Training Loss: 0.0000035, Validation Loss: 0.0000033\n"
          ]
        },
        {
          "name": "stderr",
          "output_type": "stream",
          "text": [
            ""
          ]
        },
        {
          "name": "stdout",
          "output_type": "stream",
          "text": [
            "Epoch 31, Training Loss: 0.0000035, Validation Loss: 0.0000037\n"
          ]
        },
        {
          "name": "stderr",
          "output_type": "stream",
          "text": [
            ""
          ]
        },
        {
          "name": "stdout",
          "output_type": "stream",
          "text": [
            "Epoch 32, Training Loss: 0.0000035, Validation Loss: 0.0000032\n"
          ]
        },
        {
          "name": "stderr",
          "output_type": "stream",
          "text": [
            ""
          ]
        },
        {
          "name": "stdout",
          "output_type": "stream",
          "text": [
            "Epoch 33, Training Loss: 0.0000035, Validation Loss: 0.0000033\n"
          ]
        },
        {
          "name": "stderr",
          "output_type": "stream",
          "text": [
            ""
          ]
        },
        {
          "name": "stdout",
          "output_type": "stream",
          "text": [
            "Epoch 34, Training Loss: 0.0000035, Validation Loss: 0.0000031\n"
          ]
        },
        {
          "name": "stderr",
          "output_type": "stream",
          "text": [
            ""
          ]
        },
        {
          "name": "stdout",
          "output_type": "stream",
          "text": [
            "Epoch 35, Training Loss: 0.0000035, Validation Loss: 0.0000032\n"
          ]
        },
        {
          "name": "stderr",
          "output_type": "stream",
          "text": [
            ""
          ]
        },
        {
          "name": "stdout",
          "output_type": "stream",
          "text": [
            "Epoch 36, Training Loss: 0.0000035, Validation Loss: 0.0000034\n"
          ]
        },
        {
          "name": "stderr",
          "output_type": "stream",
          "text": [
            ""
          ]
        },
        {
          "name": "stdout",
          "output_type": "stream",
          "text": [
            "Epoch 37, Training Loss: 0.0000035, Validation Loss: 0.0000032\n"
          ]
        },
        {
          "name": "stderr",
          "output_type": "stream",
          "text": [
            ""
          ]
        },
        {
          "name": "stdout",
          "output_type": "stream",
          "text": [
            "Epoch 38, Training Loss: 0.0000035, Validation Loss: 0.0000035\n"
          ]
        },
        {
          "name": "stderr",
          "output_type": "stream",
          "text": [
            ""
          ]
        },
        {
          "name": "stdout",
          "output_type": "stream",
          "text": [
            "Epoch 39, Training Loss: 0.0000035, Validation Loss: 0.0000033\n"
          ]
        },
        {
          "name": "stderr",
          "output_type": "stream",
          "text": [
            ""
          ]
        },
        {
          "name": "stdout",
          "output_type": "stream",
          "text": [
            "Epoch 40, Training Loss: 0.0000035, Validation Loss: 0.0000031\n"
          ]
        },
        {
          "name": "stderr",
          "output_type": "stream",
          "text": [
            ""
          ]
        },
        {
          "name": "stdout",
          "output_type": "stream",
          "text": [
            "Epoch 41, Training Loss: 0.0000035, Validation Loss: 0.0000035\n"
          ]
        },
        {
          "name": "stderr",
          "output_type": "stream",
          "text": [
            ""
          ]
        },
        {
          "name": "stdout",
          "output_type": "stream",
          "text": [
            "Epoch 42, Training Loss: 0.0000034, Validation Loss: 0.0000032\n"
          ]
        },
        {
          "name": "stderr",
          "output_type": "stream",
          "text": [
            ""
          ]
        },
        {
          "name": "stdout",
          "output_type": "stream",
          "text": [
            "Epoch 43, Training Loss: 0.0000035, Validation Loss: 0.0000038\n"
          ]
        },
        {
          "name": "stderr",
          "output_type": "stream",
          "text": [
            ""
          ]
        },
        {
          "name": "stdout",
          "output_type": "stream",
          "text": [
            "Epoch 44, Training Loss: 0.0000034, Validation Loss: 0.0000032\n"
          ]
        },
        {
          "name": "stderr",
          "output_type": "stream",
          "text": [
            ""
          ]
        },
        {
          "name": "stdout",
          "output_type": "stream",
          "text": [
            "Epoch 45, Training Loss: 0.0000034, Validation Loss: 0.0000033\n"
          ]
        },
        {
          "name": "stderr",
          "output_type": "stream",
          "text": [
            ""
          ]
        },
        {
          "name": "stdout",
          "output_type": "stream",
          "text": [
            "Epoch 46, Training Loss: 0.0000034, Validation Loss: 0.0000033\n"
          ]
        },
        {
          "name": "stderr",
          "output_type": "stream",
          "text": [
            ""
          ]
        },
        {
          "name": "stdout",
          "output_type": "stream",
          "text": [
            "Epoch 47, Training Loss: 0.0000034, Validation Loss: 0.0000032\n"
          ]
        },
        {
          "name": "stderr",
          "output_type": "stream",
          "text": [
            ""
          ]
        },
        {
          "name": "stdout",
          "output_type": "stream",
          "text": [
            "Epoch 48, Training Loss: 0.0000034, Validation Loss: 0.0000033\n"
          ]
        },
        {
          "name": "stderr",
          "output_type": "stream",
          "text": [
            ""
          ]
        },
        {
          "name": "stdout",
          "output_type": "stream",
          "text": [
            "Epoch 49, Training Loss: 0.0000034, Validation Loss: 0.0000031\n"
          ]
        },
        {
          "name": "stderr",
          "output_type": "stream",
          "text": [
            ""
          ]
        },
        {
          "name": "stdout",
          "output_type": "stream",
          "text": [
            "Epoch 50, Training Loss: 0.0000034, Validation Loss: 0.0000031\n"
          ]
        },
        {
          "name": "stderr",
          "output_type": "stream",
          "text": [
            ""
          ]
        },
        {
          "name": "stdout",
          "output_type": "stream",
          "text": [
            "Epoch 51, Training Loss: 0.0000034, Validation Loss: 0.0000031\n"
          ]
        },
        {
          "name": "stderr",
          "output_type": "stream",
          "text": [
            ""
          ]
        },
        {
          "name": "stdout",
          "output_type": "stream",
          "text": [
            "Epoch 52, Training Loss: 0.0000034, Validation Loss: 0.0000032\n"
          ]
        },
        {
          "name": "stderr",
          "output_type": "stream",
          "text": [
            ""
          ]
        },
        {
          "name": "stdout",
          "output_type": "stream",
          "text": [
            "Epoch 53, Training Loss: 0.0000034, Validation Loss: 0.0000033\n"
          ]
        },
        {
          "name": "stderr",
          "output_type": "stream",
          "text": [
            ""
          ]
        },
        {
          "name": "stdout",
          "output_type": "stream",
          "text": [
            "Epoch 54, Training Loss: 0.0000034, Validation Loss: 0.0000031\n"
          ]
        },
        {
          "name": "stderr",
          "output_type": "stream",
          "text": [
            ""
          ]
        },
        {
          "name": "stdout",
          "output_type": "stream",
          "text": [
            "Epoch 55, Training Loss: 0.0000034, Validation Loss: 0.0000031\n"
          ]
        },
        {
          "name": "stderr",
          "output_type": "stream",
          "text": [
            ""
          ]
        },
        {
          "name": "stdout",
          "output_type": "stream",
          "text": [
            "Epoch 56, Training Loss: 0.0000034, Validation Loss: 0.0000031\n"
          ]
        },
        {
          "name": "stderr",
          "output_type": "stream",
          "text": [
            ""
          ]
        },
        {
          "name": "stdout",
          "output_type": "stream",
          "text": [
            "Epoch 57, Training Loss: 0.0000034, Validation Loss: 0.0000035\n"
          ]
        },
        {
          "name": "stderr",
          "output_type": "stream",
          "text": [
            ""
          ]
        },
        {
          "name": "stdout",
          "output_type": "stream",
          "text": [
            "Epoch 58, Training Loss: 0.0000034, Validation Loss: 0.0000035\n"
          ]
        },
        {
          "name": "stderr",
          "output_type": "stream",
          "text": [
            ""
          ]
        },
        {
          "name": "stdout",
          "output_type": "stream",
          "text": [
            "Epoch 59, Training Loss: 0.0000034, Validation Loss: 0.0000031\n"
          ]
        },
        {
          "name": "stderr",
          "output_type": "stream",
          "text": [
            ""
          ]
        },
        {
          "name": "stdout",
          "output_type": "stream",
          "text": [
            "Epoch 60, Training Loss: 0.0000034, Validation Loss: 0.0000032\n"
          ]
        },
        {
          "name": "stderr",
          "output_type": "stream",
          "text": [
            ""
          ]
        },
        {
          "name": "stdout",
          "output_type": "stream",
          "text": [
            "Epoch 61, Training Loss: 0.0000034, Validation Loss: 0.0000031\n"
          ]
        },
        {
          "name": "stderr",
          "output_type": "stream",
          "text": [
            ""
          ]
        },
        {
          "name": "stdout",
          "output_type": "stream",
          "text": [
            "Epoch 62, Training Loss: 0.0000034, Validation Loss: 0.0000032\n"
          ]
        },
        {
          "name": "stderr",
          "output_type": "stream",
          "text": [
            ""
          ]
        },
        {
          "name": "stdout",
          "output_type": "stream",
          "text": [
            "Epoch 63, Training Loss: 0.0000034, Validation Loss: 0.0000031\n"
          ]
        },
        {
          "name": "stderr",
          "output_type": "stream",
          "text": [
            ""
          ]
        },
        {
          "name": "stdout",
          "output_type": "stream",
          "text": [
            "Epoch 64, Training Loss: 0.0000033, Validation Loss: 0.0000032\n"
          ]
        },
        {
          "name": "stderr",
          "output_type": "stream",
          "text": [
            ""
          ]
        },
        {
          "name": "stdout",
          "output_type": "stream",
          "text": [
            "Epoch 65, Training Loss: 0.0000033, Validation Loss: 0.0000031\n"
          ]
        },
        {
          "name": "stderr",
          "output_type": "stream",
          "text": [
            ""
          ]
        },
        {
          "name": "stdout",
          "output_type": "stream",
          "text": [
            "Epoch 66, Training Loss: 0.0000033, Validation Loss: 0.0000031\n"
          ]
        },
        {
          "name": "stderr",
          "output_type": "stream",
          "text": [
            ""
          ]
        },
        {
          "name": "stdout",
          "output_type": "stream",
          "text": [
            "Epoch 67, Training Loss: 0.0000034, Validation Loss: 0.0000033\n"
          ]
        },
        {
          "name": "stderr",
          "output_type": "stream",
          "text": [
            ""
          ]
        },
        {
          "name": "stdout",
          "output_type": "stream",
          "text": [
            "Epoch 68, Training Loss: 0.0000033, Validation Loss: 0.0000031\n"
          ]
        },
        {
          "name": "stderr",
          "output_type": "stream",
          "text": [
            ""
          ]
        },
        {
          "name": "stdout",
          "output_type": "stream",
          "text": [
            "Epoch 69, Training Loss: 0.0000033, Validation Loss: 0.0000031\n"
          ]
        },
        {
          "name": "stderr",
          "output_type": "stream",
          "text": [
            ""
          ]
        },
        {
          "name": "stdout",
          "output_type": "stream",
          "text": [
            "Epoch 70, Training Loss: 0.0000033, Validation Loss: 0.0000031\n"
          ]
        },
        {
          "name": "stderr",
          "output_type": "stream",
          "text": [
            ""
          ]
        },
        {
          "name": "stdout",
          "output_type": "stream",
          "text": [
            "Epoch 71, Training Loss: 0.0000033, Validation Loss: 0.0000031\n"
          ]
        },
        {
          "name": "stderr",
          "output_type": "stream",
          "text": [
            ""
          ]
        },
        {
          "name": "stdout",
          "output_type": "stream",
          "text": [
            "Epoch 72, Training Loss: 0.0000033, Validation Loss: 0.0000031\n"
          ]
        },
        {
          "name": "stderr",
          "output_type": "stream",
          "text": [
            ""
          ]
        },
        {
          "name": "stdout",
          "output_type": "stream",
          "text": [
            "Epoch 73, Training Loss: 0.0000033, Validation Loss: 0.0000032\n"
          ]
        },
        {
          "name": "stderr",
          "output_type": "stream",
          "text": [
            ""
          ]
        },
        {
          "name": "stdout",
          "output_type": "stream",
          "text": [
            "Epoch 74, Training Loss: 0.0000033, Validation Loss: 0.0000031\n"
          ]
        },
        {
          "name": "stderr",
          "output_type": "stream",
          "text": [
            ""
          ]
        },
        {
          "name": "stdout",
          "output_type": "stream",
          "text": [
            "Epoch 75, Training Loss: 0.0000033, Validation Loss: 0.0000031\n"
          ]
        },
        {
          "name": "stderr",
          "output_type": "stream",
          "text": [
            ""
          ]
        },
        {
          "name": "stdout",
          "output_type": "stream",
          "text": [
            "Epoch 76, Training Loss: 0.0000033, Validation Loss: 0.0000031\n"
          ]
        },
        {
          "name": "stderr",
          "output_type": "stream",
          "text": [
            ""
          ]
        },
        {
          "name": "stdout",
          "output_type": "stream",
          "text": [
            "Epoch 77, Training Loss: 0.0000033, Validation Loss: 0.0000033\n"
          ]
        },
        {
          "name": "stderr",
          "output_type": "stream",
          "text": [
            ""
          ]
        },
        {
          "name": "stdout",
          "output_type": "stream",
          "text": [
            "Epoch 78, Training Loss: 0.0000033, Validation Loss: 0.0000031\n"
          ]
        },
        {
          "name": "stderr",
          "output_type": "stream",
          "text": [
            ""
          ]
        },
        {
          "name": "stdout",
          "output_type": "stream",
          "text": [
            "Epoch 79, Training Loss: 0.0000033, Validation Loss: 0.0000031\n"
          ]
        },
        {
          "name": "stderr",
          "output_type": "stream",
          "text": [
            ""
          ]
        },
        {
          "name": "stdout",
          "output_type": "stream",
          "text": [
            "Epoch 80, Training Loss: 0.0000033, Validation Loss: 0.0000031\n"
          ]
        },
        {
          "name": "stderr",
          "output_type": "stream",
          "text": [
            ""
          ]
        },
        {
          "name": "stdout",
          "output_type": "stream",
          "text": [
            "Epoch 81, Training Loss: 0.0000033, Validation Loss: 0.0000031\n"
          ]
        },
        {
          "name": "stderr",
          "output_type": "stream",
          "text": [
            ""
          ]
        },
        {
          "name": "stdout",
          "output_type": "stream",
          "text": [
            "Epoch 82, Training Loss: 0.0000033, Validation Loss: 0.0000032\n"
          ]
        },
        {
          "name": "stderr",
          "output_type": "stream",
          "text": [
            ""
          ]
        },
        {
          "name": "stdout",
          "output_type": "stream",
          "text": [
            "Epoch 83, Training Loss: 0.0000033, Validation Loss: 0.0000031\n"
          ]
        },
        {
          "name": "stderr",
          "output_type": "stream",
          "text": [
            ""
          ]
        },
        {
          "name": "stdout",
          "output_type": "stream",
          "text": [
            "Epoch 84, Training Loss: 0.0000033, Validation Loss: 0.0000032\n"
          ]
        },
        {
          "name": "stderr",
          "output_type": "stream",
          "text": [
            ""
          ]
        },
        {
          "name": "stdout",
          "output_type": "stream",
          "text": [
            "Epoch 85, Training Loss: 0.0000033, Validation Loss: 0.0000031\n"
          ]
        },
        {
          "name": "stderr",
          "output_type": "stream",
          "text": [
            ""
          ]
        },
        {
          "name": "stdout",
          "output_type": "stream",
          "text": [
            "Epoch 86, Training Loss: 0.0000033, Validation Loss: 0.0000031\n"
          ]
        },
        {
          "name": "stderr",
          "output_type": "stream",
          "text": [
            ""
          ]
        },
        {
          "name": "stdout",
          "output_type": "stream",
          "text": [
            "Epoch 87, Training Loss: 0.0000033, Validation Loss: 0.0000031\n"
          ]
        },
        {
          "name": "stderr",
          "output_type": "stream",
          "text": [
            ""
          ]
        },
        {
          "name": "stdout",
          "output_type": "stream",
          "text": [
            "Epoch 88, Training Loss: 0.0000033, Validation Loss: 0.0000032\n"
          ]
        },
        {
          "name": "stderr",
          "output_type": "stream",
          "text": [
            ""
          ]
        },
        {
          "name": "stdout",
          "output_type": "stream",
          "text": [
            "Epoch 89, Training Loss: 0.0000033, Validation Loss: 0.0000031\n"
          ]
        },
        {
          "name": "stderr",
          "output_type": "stream",
          "text": [
            ""
          ]
        },
        {
          "name": "stdout",
          "output_type": "stream",
          "text": [
            "Epoch 90, Training Loss: 0.0000033, Validation Loss: 0.0000033\n"
          ]
        },
        {
          "name": "stderr",
          "output_type": "stream",
          "text": [
            ""
          ]
        },
        {
          "name": "stdout",
          "output_type": "stream",
          "text": [
            "Epoch 91, Training Loss: 0.0000033, Validation Loss: 0.0000031\n"
          ]
        },
        {
          "name": "stderr",
          "output_type": "stream",
          "text": [
            ""
          ]
        },
        {
          "name": "stdout",
          "output_type": "stream",
          "text": [
            "Epoch 92, Training Loss: 0.0000033, Validation Loss: 0.0000031\n"
          ]
        },
        {
          "name": "stderr",
          "output_type": "stream",
          "text": [
            ""
          ]
        },
        {
          "name": "stdout",
          "output_type": "stream",
          "text": [
            "Epoch 93, Training Loss: 0.0000033, Validation Loss: 0.0000032\n"
          ]
        },
        {
          "name": "stderr",
          "output_type": "stream",
          "text": [
            ""
          ]
        },
        {
          "name": "stdout",
          "output_type": "stream",
          "text": [
            "Epoch 94, Training Loss: 0.0000033, Validation Loss: 0.0000032\n"
          ]
        },
        {
          "name": "stderr",
          "output_type": "stream",
          "text": [
            ""
          ]
        },
        {
          "name": "stdout",
          "output_type": "stream",
          "text": [
            "Epoch 95, Training Loss: 0.0000033, Validation Loss: 0.0000031\n"
          ]
        },
        {
          "name": "stderr",
          "output_type": "stream",
          "text": [
            ""
          ]
        },
        {
          "name": "stdout",
          "output_type": "stream",
          "text": [
            "Epoch 96, Training Loss: 0.0000033, Validation Loss: 0.0000034\n"
          ]
        },
        {
          "name": "stderr",
          "output_type": "stream",
          "text": [
            ""
          ]
        },
        {
          "name": "stdout",
          "output_type": "stream",
          "text": [
            "Epoch 97, Training Loss: 0.0000033, Validation Loss: 0.0000031\n"
          ]
        },
        {
          "name": "stderr",
          "output_type": "stream",
          "text": [
            ""
          ]
        },
        {
          "name": "stdout",
          "output_type": "stream",
          "text": [
            "Epoch 98, Training Loss: 0.0000033, Validation Loss: 0.0000031\n"
          ]
        },
        {
          "name": "stderr",
          "output_type": "stream",
          "text": [
            ""
          ]
        },
        {
          "name": "stdout",
          "output_type": "stream",
          "text": [
            "Epoch 99, Training Loss: 0.0000033, Validation Loss: 0.0000031\n"
          ]
        },
        {
          "name": "stderr",
          "output_type": "stream",
          "text": [
            ""
          ]
        },
        {
          "name": "stdout",
          "output_type": "stream",
          "text": [
            "Epoch 100, Training Loss: 0.0000033, Validation Loss: 0.0000030\n",
            "Best model saved with Validation Loss: 0.0000030 at /content/drive/MyDrive/best_model.pth\n"
          ]
        },
        {
          "data": {
            "image/png": "[encoded data removed]",
            "text/plain": [
              "<Figure size 640x480 with 1 Axes>"
            ]
          },
          "metadata": {},
          "output_type": "display_data"
        }
      ],
      "source": [
        "# 모델 설정\n",
        "device = torch.device('cuda' if torch.cuda.is_available() else 'cpu')\n",
        "model = select_model(\n",
        "    model_type=config[\"model_type\"],\n",
        "    input_size=x_train.shape[2],\n",
        "    hidden_size=config[\"hidden_size\"],\n",
        "    output_size=y_train.shape[1],\n",
        "    num_layers=config[\"num_layers\"],\n",
        "    dropout_rate=config[\"dropout_rate\"]\n",
        ").to(device)\n",
        "\n",
        "# 손실 함수 및 옵티마이저\n",
        "criterion = nn.MSELoss()\n",
        "optimizer = optim.AdamW(model.parameters(), lr=config[\"learning_rate\"])\n",
        "\n",
        "# 최적 모델 저장 변수 초기화\n",
        "best_model_state = None\n",
        "min_val_loss = float(\"inf\")\n",
        "\n",
        "\n",
        "# 학습 루프\n",
        "train_losses, val_losses = [], []\n",
        "\n",
        "for epoch in range(config[\"num_epochs\"]):\n",
        "    model.train()\n",
        "    running_loss = 0.0\n",
        "\n",
        "    # tqdm을 사용하여 진행 상황 표시\n",
        "    for inputs, targets in tqdm(train_loader, desc=f\"Epoch {epoch + 1}/{config['num_epochs']}\", leave=False):\n",
        "        inputs, targets = inputs.to(device), targets.to(device)\n",
        "        optimizer.zero_grad()\n",
        "        loss = criterion(model(inputs), targets)\n",
        "        loss.backward()\n",
        "        optimizer.step()\n",
        "        running_loss += loss.item()\n",
        "    train_losses.append(running_loss / len(train_loader))\n",
        "\n",
        "    # 검증 손실 계산\n",
        "    model.eval()\n",
        "    val_loss = 0.0\n",
        "    with torch.no_grad():\n",
        "        for inputs, targets in val_loader:\n",
        "            inputs, targets = inputs.to(device), targets.to(device)\n",
        "            loss = criterion(model(inputs), targets)\n",
        "            val_loss += loss.item()\n",
        "    val_loss /= len(val_loader)\n",
        "    val_losses.append(val_loss)\n",
        "\n",
        "    print(f\"Epoch {epoch + 1}, Training Loss: {train_losses[-1]:.7f}, Validation Loss: {val_loss:.7f}\")\n",
        "\n",
        "    # 최적 모델 상태 저장\n",
        "    if val_loss < min_val_loss:\n",
        "        min_val_loss = val_loss\n",
        "        best_model_state = model.state_dict()  # 모델 상태 저장\n",
        "\n",
        "# 학습 종료 후 최적 모델 저장\n",
        "if best_model_state is not None:\n",
        "    best_model_path = \"/content/drive/MyDrive/best_model.pth\"\n",
        "    torch.save(best_model_state, best_model_path)\n",
        "    print(f\"Best model saved with Validation Loss: {min_val_loss:.7f} at {best_model_path}\")\n",
        "\n",
        "# 학습 손실 그래프\n",
        "plt.plot(train_losses, label='Training Loss')\n",
        "plt.plot(val_losses, label='Validation Loss')\n",
        "plt.title('Model Loss Over Epochs')\n",
        "plt.xlabel('Epochs')\n",
        "plt.ylabel('Loss')\n",
        "plt.legend()\n",
        "plt.show()\n"
      ]
    },
    {
      "cell_type": "code",
      "execution_count": null,
      "metadata": {
        "colab": {
          "background_save": true
        },
        "id": "L_IM6JLlF3DU",
        "outputId": "7a90459e-826d-4968-b8ba-df977bc3a847"
      },
      "outputs": [
        {
          "data": {
            "image/png": "[encoded data removed]",
            "text/plain": [
              "<Figure size 1200x600 with 1 Axes>"
            ]
          },
          "metadata": {},
          "output_type": "display_data"
        }
      ],
      "source": [
        "# 테스트 데이터 예측 및 실제 값 비교\n",
        "model.load_state_dict(torch.load(best_model_path, weights_only=True), strict=True)\n",
        "model.eval()\n",
        "predictions, actuals = [], []\n",
        "\n",
        "with torch.no_grad():\n",
        "    for inputs, targets in test_loader:\n",
        "        inputs, targets = inputs.to(device), targets.to(device)\n",
        "        outputs = model(inputs)\n",
        "        predictions.append(outputs.cpu().numpy())\n",
        "        actuals.append(targets.cpu().numpy())\n",
        "\n",
        "# 리스트를 배열로 변환\n",
        "predictions = np.concatenate(predictions, axis=0)\n",
        "actuals = np.concatenate(actuals, axis=0)\n",
        "\n",
        "# 원래 스케일로 복원 (내부 온도 값만)\n",
        "predictions = scaler.inverse_transform(np.hstack((np.zeros((predictions.shape[0], len(config[\"feature_columns\"]))), predictions)))[:, -1]\n",
        "actuals = scaler.inverse_transform(np.hstack((np.zeros((actuals.shape[0], len(config[\"feature_columns\"]))), actuals)))[:, -1]\n",
        "\n",
        "# 예측값과 실제값 그래프 그리기\n",
        "plt.figure(figsize=(12, 6))\n",
        "plt.plot(actuals, label=\"Actual Internal Temperature\", color=\"blue\")\n",
        "plt.plot(predictions, label=\"Predicted Internal Temperature\", color=\"red\", linestyle=\"--\")\n",
        "plt.title(\"Actual vs Predicted Internal Temperature\")\n",
        "plt.xlabel(\"Time Step\")\n",
        "plt.ylabel(\"Internal Temperature\")\n",
        "plt.legend()\n",
        "plt.show()"
      ]
    },
    {
      "cell_type": "code",
      "execution_count": null,
      "metadata": {
        "colab": {
          "background_save": true
        },
        "id": "vtt2bVJGTEif",
        "outputId": "f51bb80f-d4d7-419e-cc78-44328f3bae7b"
      },
      "outputs": [
        {
          "name": "stdout",
          "output_type": "stream",
          "text": [
            "2022년 데이터에 대한 역정규화된 RMSE: 0.1248\n",
            "2022년 데이터에 대한 역정규화된 R^2: 0.9996\n"
          ]
        }
      ],
      "source": [
        "from sklearn.metrics import mean_squared_error, r2_score\n",
        "\n",
        "# 역정규화 함수\n",
        "def inverse_transform(scaler, data, columns):\n",
        "    full_data = np.zeros((data.shape[0], len(config[\"feature_columns\"]) + 1))  # feature_columns와 target_column을 포함한 크기\n",
        "    full_data[:, -1] = data.squeeze()  # target column에만 예측값 할당\n",
        "    inversed = scaler.inverse_transform(full_data)  # 역정규화\n",
        "    return inversed[:, -1]  # target column만 반환\n",
        "\n",
        "# 2022년도 테스트 데이터 예측 및 역정규화\n",
        "model.eval()\n",
        "predictions = []\n",
        "actuals = []\n",
        "\n",
        "with torch.no_grad():\n",
        "    for inputs, targets in test_loader:\n",
        "        inputs = inputs.to(device)\n",
        "        output = model(inputs).cpu().numpy()\n",
        "        predictions.append(output)\n",
        "        actuals.append(targets.cpu().numpy())\n",
        "\n",
        "# 예측값과 실제값 배열로 변환\n",
        "predictions = np.concatenate(predictions, axis=0)\n",
        "actuals = np.concatenate(actuals, axis=0)\n",
        "\n",
        "# 예측값과 실제값 역정규화\n",
        "predictions_inverse = inverse_transform(scaler, predictions, config[\"target_column\"])\n",
        "actuals_inverse = inverse_transform(scaler, actuals, config[\"target_column\"])\n",
        "\n",
        "# RMSE 및 R² 계산\n",
        "rmse = np.sqrt(mean_squared_error(actuals_inverse, predictions_inverse))\n",
        "r2 = r2_score(actuals_inverse, predictions_inverse)\n",
        "\n",
        "print(f\"2022년 데이터에 대한 역정규화된 RMSE: {rmse:.4f}\")\n",
        "print(f\"2022년 데이터에 대한 역정규화된 R^2: {r2:.4f}\")\n"
      ]
    }
  ],
  "metadata": {
    "accelerator": "GPU",
    "colab": {
      "gpuType": "A100",
      "provenance": []
    },
    "kernelspec": {
      "display_name": "Python 3",
      "name": "python3"
    },
    "language_info": {
      "name": "python"
    }
  },
  "nbformat": 4,
  "nbformat_minor": 0
}