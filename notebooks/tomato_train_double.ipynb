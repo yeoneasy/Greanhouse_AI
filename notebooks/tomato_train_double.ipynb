{
  "cells": [
    {
      "cell_type": "code",
      "execution_count": null,
      "metadata": {
        "colab": {
          "base_uri": "https://localhost:8080/"
        },
        "id": "JsJefY2HVYW7",
        "outputId": "7190600c-e134-4477-b0fe-2eb54ff049f2"
      },
      "outputs": [
        {
          "name": "stdout",
          "output_type": "stream",
          "text": [
            "Mounted at /content/drive\n"
          ]
        }
      ],
      "source": [
        "import sqlite3\n",
        "import pandas as pd\n",
        "import numpy as np\n",
        "import random\n",
        "import torch\n",
        "import torch.nn as nn\n",
        "import torch.optim as optim\n",
        "from google.colab import drive\n",
        "from sklearn.preprocessing import MinMaxScaler\n",
        "from torch.utils.data import DataLoader, TensorDataset\n",
        "import matplotlib.pyplot as plt\n",
        "from tqdm import tqdm\n",
        "from sklearn.metrics import mean_squared_error, r2_score\n",
        "\n",
        "drive.mount('/content/drive')"
      ]
    },
    {
      "cell_type": "code",
      "execution_count": null,
      "metadata": {
        "id": "pQFehvPwwIL6"
      },
      "outputs": [],
      "source": [
        "# 시드 고정 코드\n",
        "def set_seed(seed):\n",
        "    random.seed(seed)\n",
        "    np.random.seed(seed)\n",
        "    torch.manual_seed(seed)\n",
        "    torch.cuda.manual_seed(seed)\n",
        "    torch.backends.cudnn.deterministic = True\n",
        "    torch.backends.cudnn.benchmark = False\n",
        "\n",
        "set_seed(42)"
      ]
    },
    {
      "cell_type": "code",
      "execution_count": null,
      "metadata": {
        "id": "Jh5ZQ5nsVg1f"
      },
      "outputs": [],
      "source": [
        "# 데이터 로드 함수 정의 (데이터 전체 사용)\n",
        "def load_data(db_path, year):\n",
        "    with sqlite3.connect(db_path) as conn:\n",
        "        df = pd.read_sql(f\"SELECT * FROM '{year}'\", conn)\n",
        "    df = df.drop(columns=['저장시간']).select_dtypes(include=[np.number])\n",
        "    df = df.interpolate(method='linear', limit_direction='both')  # 결측치 보간\n",
        "    return df"
      ]
    },
    {
      "cell_type": "code",
      "execution_count": null,
      "metadata": {
        "id": "ZeMhzlj1kSfv"
      },
      "outputs": [],
      "source": [
        "# 데이터셋 경로\n",
        "db_paths = {\n",
        "    \"Iksan\": \"/content/drive/MyDrive/Tomato_db/Iksan.db\",\n",
        "    \"Jeongeup\": \"/content/drive/MyDrive/Tomato_db/Jeongeup.db\",\n",
        "    \"Sacheon_Kang\": \"/content/drive/MyDrive/Tomato_db/Sacheon_Kang.db\",\n",
        "    \"Sacheon_Kim\": \"/content/drive/MyDrive/Tomato_db/Sacheon_Kim.db\"\n",
        "}\n",
        "\n",
        "# 데이터 로드\n",
        "data_sources = {\n",
        "    \"Iksan\": {year: load_data(db_paths[\"Iksan\"], year) for year in ['2018', '2019', '2020', '2021', '2022']},\n",
        "    \"Jeongeup\": {year: load_data(db_paths[\"Jeongeup\"], year) for year in ['2018', '2019', '2020', '2021', '2022']},\n",
        "    \"Sacheon_Kang\": {year: load_data(db_paths[\"Sacheon_Kang\"], year) for year in ['2018', '2019', '2020', '2021', '2022']},\n",
        "    \"Sacheon_Kim\": {year: load_data(db_paths[\"Sacheon_Kim\"], year) for year in ['2020', '2021', '2022']}\n",
        "}\n",
        "\n",
        "# 데이터 병합\n",
        "train_data = pd.concat([\n",
        "    data_sources[\"Iksan\"]['2018'], data_sources[\"Iksan\"]['2019'], data_sources[\"Iksan\"]['2020'],\n",
        "    data_sources[\"Jeongeup\"]['2018'], data_sources[\"Jeongeup\"]['2019'], data_sources[\"Jeongeup\"]['2020'],\n",
        "    data_sources[\"Sacheon_Kang\"]['2018'], data_sources[\"Sacheon_Kang\"]['2019'], data_sources[\"Sacheon_Kang\"]['2020'],\n",
        "    data_sources[\"Sacheon_Kim\"]['2020']\n",
        "], axis=0)\n",
        "\n",
        "val_data = pd.concat([\n",
        "    data_sources[\"Iksan\"]['2021'], data_sources[\"Jeongeup\"]['2021'], data_sources[\"Sacheon_Kang\"]['2021'],\n",
        "    data_sources[\"Sacheon_Kim\"]['2021']\n",
        "], axis=0)\n",
        "\n",
        "test_data = pd.concat([\n",
        "    data_sources[\"Iksan\"]['2022'], data_sources[\"Jeongeup\"]['2022'], data_sources[\"Sacheon_Kang\"]['2022'],\n",
        "    data_sources[\"Sacheon_Kim\"]['2022']\n",
        "], axis=0)\n"
      ]
    },
    {
      "cell_type": "code",
      "execution_count": null,
      "metadata": {
        "id": "K-TIQdHe0xRW"
      },
      "outputs": [],
      "source": [
        "# 데이터 스케일링 및 시퀀스 생성\n",
        "def preprocess_data(df, scaler=None, fit_scaler=False, config=None):\n",
        "    if fit_scaler:\n",
        "        scaler = MinMaxScaler().fit(df[config[\"feature_columns\"] + [config[\"target_column\"]]])\n",
        "    scaled = scaler.transform(df[config[\"feature_columns\"] + [config[\"target_column\"]]])\n",
        "\n",
        "    x = np.array([scaled[i-config[\"sequence_length\"]:i, :len(config[\"feature_columns\"])]\n",
        "                  for i in range(config[\"sequence_length\"], len(scaled))])\n",
        "    y = np.array([scaled[i, len(config[\"feature_columns\"]):] for i in range(config[\"sequence_length\"], len(scaled))])\n",
        "\n",
        "    return torch.tensor(x, dtype=torch.float32), torch.tensor(y, dtype=torch.float32), scaler"
      ]
    },
    {
      "cell_type": "code",
      "execution_count": null,
      "metadata": {
        "id": "ahNpFYwFkglI"
      },
      "outputs": [],
      "source": [
        "# RNN 모델 정의\n",
        "class RNNModel(nn.Module):\n",
        "    def __init__(self, input_size, hidden_size, output_size, num_layers, dropout_rate):\n",
        "        super().__init__()\n",
        "        self.rnn = nn.RNN(input_size, hidden_size, num_layers, batch_first=True, dropout=dropout_rate, nonlinearity='tanh')\n",
        "        self.fc = nn.Sequential(\n",
        "            nn.Dropout(dropout_rate),\n",
        "            nn.Linear(hidden_size, 12),\n",
        "            nn.ReLU(),\n",
        "            nn.Linear(12, output_size)\n",
        "        )\n",
        "\n",
        "    def forward(self, x):\n",
        "        out, _ = self.rnn(x)\n",
        "        return self.fc(out[:, -1, :])\n",
        "\n",
        "# LSTM 모델 정의\n",
        "class LSTMModel(nn.Module):\n",
        "    def __init__(self, input_size, hidden_size, output_size, num_layers, dropout_rate):\n",
        "        super().__init__()\n",
        "        self.lstm = nn.LSTM(input_size, hidden_size, num_layers, batch_first=True, dropout=dropout_rate)\n",
        "        self.fc = nn.Sequential(\n",
        "            nn.Dropout(dropout_rate),\n",
        "            nn.Linear(hidden_size, 12),\n",
        "            nn.ReLU(),\n",
        "            nn.Linear(12, output_size)\n",
        "        )\n",
        "\n",
        "    def forward(self, x):\n",
        "        out, _ = self.lstm(x)\n",
        "        return self.fc(out[:, -1, :])\n",
        "\n",
        "# GRU 모델 정의\n",
        "class GRUModel(nn.Module):\n",
        "    def __init__(self, input_size, hidden_size, output_size, num_layers, dropout_rate):\n",
        "        super().__init__()\n",
        "        self.gru = nn.GRU(input_size, hidden_size, num_layers, batch_first=True, dropout=dropout_rate)\n",
        "        self.fc = nn.Sequential(\n",
        "            nn.Dropout(dropout_rate),\n",
        "            nn.Linear(hidden_size, 12),\n",
        "            nn.ReLU(),\n",
        "            nn.Linear(12, output_size)\n",
        "        )\n",
        "\n",
        "    def forward(self, x):\n",
        "        out, _ = self.gru(x)\n",
        "        return self.fc(out[:, -1, :])\n",
        "\n",
        "# 모델 선택 함수\n",
        "def select_model(model_type, input_size, hidden_size, output_size, num_layers, dropout_rate):\n",
        "    if model_type == \"LSTM\":\n",
        "        return LSTMModel(input_size, hidden_size, output_size, num_layers, dropout_rate)\n",
        "    elif model_type == \"GRU\":\n",
        "        return GRUModel(input_size, hidden_size, output_size, num_layers, dropout_rate)\n",
        "    elif model_type == \"RNN\":\n",
        "        return RNNModel(input_size, hidden_size, output_size, num_layers, dropout_rate)\n",
        "    else:\n",
        "        raise ValueError(\"Invalid model type. Choose from 'LSTM', 'GRU', or 'RNN'.\")"
      ]
    },
    {
      "cell_type": "code",
      "execution_count": null,
      "metadata": {
        "id": "catgUBYy1xvL"
      },
      "outputs": [],
      "source": [
        "# 모델 평가 함수\n",
        "def evaluate_model(model, data_loader, device, criterion):\n",
        "    model.eval()\n",
        "    total_loss = 0.0\n",
        "    predictions, actuals = [], []\n",
        "    with torch.no_grad():\n",
        "        for inputs, targets in data_loader:\n",
        "            inputs, targets = inputs.to(device), targets.to(device)\n",
        "            outputs = model(inputs)\n",
        "            loss = criterion(outputs, targets)\n",
        "            total_loss += loss.item()\n",
        "            predictions.append(outputs.cpu().numpy())\n",
        "            actuals.append(targets.cpu().numpy())\n",
        "\n",
        "    predictions = np.concatenate(predictions, axis=0)\n",
        "    actuals = np.concatenate(actuals, axis=0)\n",
        "\n",
        "    rmse = np.sqrt(((predictions - actuals) ** 2).mean())\n",
        "    r2 = 1 - ((predictions - actuals) ** 2).sum() / ((actuals - actuals.mean()) ** 2).sum()\n",
        "\n",
        "    return total_loss / len(data_loader), rmse, r2"
      ]
    },
    {
      "cell_type": "code",
      "execution_count": null,
      "metadata": {
        "id": "bHFp-bH2Vctg"
      },
      "outputs": [],
      "source": [
        "config_baseline = {\n",
        "    \"sequence_length\": 30,\n",
        "    \"batch_size\": 1024,\n",
        "    \"hidden_size\": 512,\n",
        "    \"num_layers\": 1,\n",
        "    \"dropout_rate\": 0,\n",
        "    \"learning_rate\": 0.0001,\n",
        "    \"num_epochs\": 100,\n",
        "    \"target_column\": \"내부온도\",\n",
        "    \"feature_columns\": ['내부온도', '외부온도', '풍향', '풍속', '일사량', '누적일사량', '감우'],\n",
        "    \"model_type\": \"LSTM\"  # \"LSTM\", \"GRU\", \"RNN\" 중 하나 선택\n",
        "}"
      ]
    },
    {
      "cell_type": "code",
      "execution_count": null,
      "metadata": {
        "id": "0s-hukHOkd8e"
      },
      "outputs": [],
      "source": [
        "# 스케일러 설정 및 데이터 전처리\n",
        "scaler_baseline = MinMaxScaler()\n",
        "scaler_baseline.fit(pd.concat([train_data, val_data, test_data])[config_baseline[\"feature_columns\"] + [config_baseline[\"target_column\"]]])\n",
        "\n",
        "x_train_baseline, y_train_baseline, _ = preprocess_data(train_data, scaler=scaler_baseline, fit_scaler=False, config=config_baseline)\n",
        "x_val_baseline, y_val_baseline, _ = preprocess_data(val_data, scaler=scaler_baseline, fit_scaler=False, config=config_baseline)\n",
        "x_test_baseline, y_test_baseline, _ = preprocess_data(test_data, scaler=scaler_baseline, fit_scaler=False, config=config_baseline)\n",
        "\n",
        "# DataLoader 생성\n",
        "train_loader_baseline = DataLoader(TensorDataset(x_train_baseline, y_train_baseline), batch_size=config_baseline[\"batch_size\"], shuffle=True)\n",
        "val_loader_baseline = DataLoader(TensorDataset(x_val_baseline, y_val_baseline), batch_size=config_baseline[\"batch_size\"], shuffle=False)\n",
        "test_loader_baseline = DataLoader(TensorDataset(x_test_baseline, y_test_baseline), batch_size=config_baseline[\"batch_size\"], shuffle=False)"
      ]
    },
    {
      "cell_type": "code",
      "execution_count": null,
      "metadata": {
        "id": "y2UKZAaVlyZN"
      },
      "outputs": [],
      "source": [
        "# Baseline 모델 생성\n",
        "device = torch.device('cuda' if torch.cuda.is_available() else 'cpu')\n",
        "model_baseline = select_model(\n",
        "    model_type=config_baseline[\"model_type\"],\n",
        "    input_size=x_train_baseline.shape[2],\n",
        "    hidden_size=config_baseline[\"hidden_size\"],\n",
        "    output_size=y_train_baseline.shape[1],\n",
        "    num_layers=config_baseline[\"num_layers\"],\n",
        "    dropout_rate=config_baseline[\"dropout_rate\"]\n",
        ").to(device)\n",
        "\n",
        "criterion = nn.MSELoss()\n",
        "optimizer_baseline = optim.AdamW(model_baseline.parameters(), lr=config_baseline[\"learning_rate\"])"
      ]
    },
    {
      "cell_type": "code",
      "execution_count": null,
      "metadata": {
        "colab": {
          "base_uri": "https://localhost:8080/"
        },
        "id": "mhFNT8Ky19fu",
        "outputId": "049a18b8-0b63-4c1f-d633-3cb9df0fd4ae"
      },
      "outputs": [
        {
          "name": "stderr",
          "output_type": "stream",
          "text": [
            "Baseline Epoch 1/100: 100%|██████████| 4653/4653 [01:14<00:00, 62.80it/s]\n"
          ]
        },
        {
          "name": "stdout",
          "output_type": "stream",
          "text": [
            "Epoch 1, Training Loss: 0.0003091, Validation Loss: 0.0000218\n"
          ]
        },
        {
          "name": "stderr",
          "output_type": "stream",
          "text": [
            "Baseline Epoch 2/100: 100%|██████████| 4653/4653 [01:13<00:00, 63.29it/s]\n"
          ]
        },
        {
          "name": "stdout",
          "output_type": "stream",
          "text": [
            "Epoch 2, Training Loss: 0.0000176, Validation Loss: 0.0000125\n"
          ]
        },
        {
          "name": "stderr",
          "output_type": "stream",
          "text": [
            "Baseline Epoch 3/100: 100%|██████████| 4653/4653 [01:13<00:00, 63.44it/s]\n"
          ]
        },
        {
          "name": "stdout",
          "output_type": "stream",
          "text": [
            "Epoch 3, Training Loss: 0.0000094, Validation Loss: 0.0000070\n"
          ]
        },
        {
          "name": "stderr",
          "output_type": "stream",
          "text": [
            "Baseline Epoch 4/100: 100%|██████████| 4653/4653 [01:13<00:00, 63.53it/s]\n"
          ]
        },
        {
          "name": "stdout",
          "output_type": "stream",
          "text": [
            "Epoch 4, Training Loss: 0.0000068, Validation Loss: 0.0000051\n"
          ]
        },
        {
          "name": "stderr",
          "output_type": "stream",
          "text": [
            "Baseline Epoch 5/100: 100%|██████████| 4653/4653 [01:13<00:00, 63.10it/s]\n"
          ]
        },
        {
          "name": "stdout",
          "output_type": "stream",
          "text": [
            "Epoch 5, Training Loss: 0.0000055, Validation Loss: 0.0000076\n"
          ]
        },
        {
          "name": "stderr",
          "output_type": "stream",
          "text": [
            "Baseline Epoch 6/100: 100%|██████████| 4653/4653 [01:13<00:00, 63.08it/s]\n"
          ]
        },
        {
          "name": "stdout",
          "output_type": "stream",
          "text": [
            "Epoch 6, Training Loss: 0.0000049, Validation Loss: 0.0000076\n"
          ]
        },
        {
          "name": "stderr",
          "output_type": "stream",
          "text": [
            "Baseline Epoch 7/100: 100%|██████████| 4653/4653 [01:14<00:00, 62.88it/s]\n"
          ]
        },
        {
          "name": "stdout",
          "output_type": "stream",
          "text": [
            "Epoch 7, Training Loss: 0.0000045, Validation Loss: 0.0000037\n"
          ]
        },
        {
          "name": "stderr",
          "output_type": "stream",
          "text": [
            "Baseline Epoch 8/100: 100%|██████████| 4653/4653 [01:13<00:00, 62.99it/s]\n"
          ]
        },
        {
          "name": "stdout",
          "output_type": "stream",
          "text": [
            "Epoch 8, Training Loss: 0.0000042, Validation Loss: 0.0000045\n"
          ]
        },
        {
          "name": "stderr",
          "output_type": "stream",
          "text": [
            "Baseline Epoch 9/100: 100%|██████████| 4653/4653 [01:13<00:00, 62.94it/s]\n"
          ]
        },
        {
          "name": "stdout",
          "output_type": "stream",
          "text": [
            "Epoch 9, Training Loss: 0.0000040, Validation Loss: 0.0000038\n"
          ]
        },
        {
          "name": "stderr",
          "output_type": "stream",
          "text": [
            "Baseline Epoch 10/100: 100%|██████████| 4653/4653 [01:13<00:00, 63.06it/s]\n"
          ]
        },
        {
          "name": "stdout",
          "output_type": "stream",
          "text": [
            "Epoch 10, Training Loss: 0.0000039, Validation Loss: 0.0000033\n"
          ]
        },
        {
          "name": "stderr",
          "output_type": "stream",
          "text": [
            "Baseline Epoch 11/100: 100%|██████████| 4653/4653 [01:13<00:00, 62.89it/s]\n"
          ]
        },
        {
          "name": "stdout",
          "output_type": "stream",
          "text": [
            "Epoch 11, Training Loss: 0.0000039, Validation Loss: 0.0000066\n"
          ]
        },
        {
          "name": "stderr",
          "output_type": "stream",
          "text": [
            "Baseline Epoch 12/100: 100%|██████████| 4653/4653 [01:13<00:00, 62.98it/s]\n"
          ]
        },
        {
          "name": "stdout",
          "output_type": "stream",
          "text": [
            "Epoch 12, Training Loss: 0.0000038, Validation Loss: 0.0000036\n"
          ]
        },
        {
          "name": "stderr",
          "output_type": "stream",
          "text": [
            "Baseline Epoch 13/100: 100%|██████████| 4653/4653 [01:13<00:00, 62.93it/s]\n"
          ]
        },
        {
          "name": "stdout",
          "output_type": "stream",
          "text": [
            "Epoch 13, Training Loss: 0.0000038, Validation Loss: 0.0000042\n"
          ]
        },
        {
          "name": "stderr",
          "output_type": "stream",
          "text": [
            "Baseline Epoch 14/100: 100%|██████████| 4653/4653 [01:13<00:00, 63.11it/s]\n"
          ]
        },
        {
          "name": "stdout",
          "output_type": "stream",
          "text": [
            "Epoch 14, Training Loss: 0.0000037, Validation Loss: 0.0000034\n"
          ]
        },
        {
          "name": "stderr",
          "output_type": "stream",
          "text": [
            "Baseline Epoch 15/100: 100%|██████████| 4653/4653 [01:13<00:00, 62.97it/s]\n"
          ]
        },
        {
          "name": "stdout",
          "output_type": "stream",
          "text": [
            "Epoch 15, Training Loss: 0.0000037, Validation Loss: 0.0000034\n"
          ]
        },
        {
          "name": "stderr",
          "output_type": "stream",
          "text": [
            "Baseline Epoch 16/100: 100%|██████████| 4653/4653 [01:13<00:00, 63.08it/s]\n"
          ]
        },
        {
          "name": "stdout",
          "output_type": "stream",
          "text": [
            "Epoch 16, Training Loss: 0.0000037, Validation Loss: 0.0000033\n"
          ]
        },
        {
          "name": "stderr",
          "output_type": "stream",
          "text": [
            "Baseline Epoch 17/100: 100%|██████████| 4653/4653 [01:13<00:00, 63.12it/s]\n"
          ]
        },
        {
          "name": "stdout",
          "output_type": "stream",
          "text": [
            "Epoch 17, Training Loss: 0.0000037, Validation Loss: 0.0000033\n"
          ]
        },
        {
          "name": "stderr",
          "output_type": "stream",
          "text": [
            "Baseline Epoch 18/100: 100%|██████████| 4653/4653 [01:13<00:00, 63.23it/s]\n"
          ]
        },
        {
          "name": "stdout",
          "output_type": "stream",
          "text": [
            "Epoch 18, Training Loss: 0.0000037, Validation Loss: 0.0000032\n"
          ]
        },
        {
          "name": "stderr",
          "output_type": "stream",
          "text": [
            "Baseline Epoch 19/100: 100%|██████████| 4653/4653 [01:14<00:00, 62.66it/s]\n"
          ]
        },
        {
          "name": "stdout",
          "output_type": "stream",
          "text": [
            "Epoch 19, Training Loss: 0.0000037, Validation Loss: 0.0000037\n"
          ]
        },
        {
          "name": "stderr",
          "output_type": "stream",
          "text": [
            "Baseline Epoch 20/100: 100%|██████████| 4653/4653 [01:15<00:00, 61.85it/s]\n"
          ]
        },
        {
          "name": "stdout",
          "output_type": "stream",
          "text": [
            "Epoch 20, Training Loss: 0.0000036, Validation Loss: 0.0000033\n"
          ]
        },
        {
          "name": "stderr",
          "output_type": "stream",
          "text": [
            "Baseline Epoch 21/100: 100%|██████████| 4653/4653 [01:14<00:00, 62.14it/s]\n"
          ]
        },
        {
          "name": "stdout",
          "output_type": "stream",
          "text": [
            "Epoch 21, Training Loss: 0.0000036, Validation Loss: 0.0000032\n"
          ]
        },
        {
          "name": "stderr",
          "output_type": "stream",
          "text": [
            "Baseline Epoch 22/100: 100%|██████████| 4653/4653 [01:14<00:00, 62.42it/s]\n"
          ]
        },
        {
          "name": "stdout",
          "output_type": "stream",
          "text": [
            "Epoch 22, Training Loss: 0.0000036, Validation Loss: 0.0000032\n"
          ]
        },
        {
          "name": "stderr",
          "output_type": "stream",
          "text": [
            "Baseline Epoch 23/100: 100%|██████████| 4653/4653 [01:14<00:00, 62.58it/s]\n"
          ]
        },
        {
          "name": "stdout",
          "output_type": "stream",
          "text": [
            "Epoch 23, Training Loss: 0.0000036, Validation Loss: 0.0000033\n"
          ]
        },
        {
          "name": "stderr",
          "output_type": "stream",
          "text": [
            "Baseline Epoch 24/100: 100%|██████████| 4653/4653 [01:14<00:00, 62.66it/s]\n"
          ]
        },
        {
          "name": "stdout",
          "output_type": "stream",
          "text": [
            "Epoch 24, Training Loss: 0.0000036, Validation Loss: 0.0000034\n"
          ]
        },
        {
          "name": "stderr",
          "output_type": "stream",
          "text": [
            "Baseline Epoch 25/100: 100%|██████████| 4653/4653 [01:13<00:00, 62.94it/s]\n"
          ]
        },
        {
          "name": "stdout",
          "output_type": "stream",
          "text": [
            "Epoch 25, Training Loss: 0.0000036, Validation Loss: 0.0000033\n"
          ]
        },
        {
          "name": "stderr",
          "output_type": "stream",
          "text": [
            "Baseline Epoch 26/100: 100%|██████████| 4653/4653 [01:14<00:00, 62.69it/s]\n"
          ]
        },
        {
          "name": "stdout",
          "output_type": "stream",
          "text": [
            "Epoch 26, Training Loss: 0.0000036, Validation Loss: 0.0000032\n"
          ]
        },
        {
          "name": "stderr",
          "output_type": "stream",
          "text": [
            "Baseline Epoch 27/100: 100%|██████████| 4653/4653 [01:14<00:00, 62.57it/s]\n"
          ]
        },
        {
          "name": "stdout",
          "output_type": "stream",
          "text": [
            "Epoch 27, Training Loss: 0.0000036, Validation Loss: 0.0000032\n"
          ]
        },
        {
          "name": "stderr",
          "output_type": "stream",
          "text": [
            "Baseline Epoch 28/100: 100%|██████████| 4653/4653 [01:13<00:00, 63.00it/s]\n"
          ]
        },
        {
          "name": "stdout",
          "output_type": "stream",
          "text": [
            "Epoch 28, Training Loss: 0.0000035, Validation Loss: 0.0000032\n"
          ]
        },
        {
          "name": "stderr",
          "output_type": "stream",
          "text": [
            "Baseline Epoch 29/100: 100%|██████████| 4653/4653 [01:14<00:00, 62.82it/s]\n"
          ]
        },
        {
          "name": "stdout",
          "output_type": "stream",
          "text": [
            "Epoch 29, Training Loss: 0.0000035, Validation Loss: 0.0000032\n"
          ]
        },
        {
          "name": "stderr",
          "output_type": "stream",
          "text": [
            "Baseline Epoch 30/100: 100%|██████████| 4653/4653 [01:14<00:00, 62.72it/s]\n"
          ]
        },
        {
          "name": "stdout",
          "output_type": "stream",
          "text": [
            "Epoch 30, Training Loss: 0.0000035, Validation Loss: 0.0000033\n"
          ]
        },
        {
          "name": "stderr",
          "output_type": "stream",
          "text": [
            "Baseline Epoch 31/100: 100%|██████████| 4653/4653 [01:13<00:00, 62.98it/s]\n"
          ]
        },
        {
          "name": "stdout",
          "output_type": "stream",
          "text": [
            "Epoch 31, Training Loss: 0.0000035, Validation Loss: 0.0000037\n"
          ]
        },
        {
          "name": "stderr",
          "output_type": "stream",
          "text": [
            "Baseline Epoch 32/100: 100%|██████████| 4653/4653 [01:13<00:00, 63.07it/s]\n"
          ]
        },
        {
          "name": "stdout",
          "output_type": "stream",
          "text": [
            "Epoch 32, Training Loss: 0.0000035, Validation Loss: 0.0000032\n"
          ]
        },
        {
          "name": "stderr",
          "output_type": "stream",
          "text": [
            "Baseline Epoch 33/100: 100%|██████████| 4653/4653 [01:14<00:00, 62.88it/s]\n"
          ]
        },
        {
          "name": "stdout",
          "output_type": "stream",
          "text": [
            "Epoch 33, Training Loss: 0.0000035, Validation Loss: 0.0000033\n"
          ]
        },
        {
          "name": "stderr",
          "output_type": "stream",
          "text": [
            "Baseline Epoch 34/100: 100%|██████████| 4653/4653 [01:13<00:00, 62.95it/s]\n"
          ]
        },
        {
          "name": "stdout",
          "output_type": "stream",
          "text": [
            "Epoch 34, Training Loss: 0.0000035, Validation Loss: 0.0000031\n"
          ]
        },
        {
          "name": "stderr",
          "output_type": "stream",
          "text": [
            "Baseline Epoch 35/100: 100%|██████████| 4653/4653 [01:13<00:00, 63.02it/s]\n"
          ]
        },
        {
          "name": "stdout",
          "output_type": "stream",
          "text": [
            "Epoch 35, Training Loss: 0.0000035, Validation Loss: 0.0000032\n"
          ]
        },
        {
          "name": "stderr",
          "output_type": "stream",
          "text": [
            "Baseline Epoch 36/100: 100%|██████████| 4653/4653 [01:13<00:00, 63.44it/s]\n"
          ]
        },
        {
          "name": "stdout",
          "output_type": "stream",
          "text": [
            "Epoch 36, Training Loss: 0.0000035, Validation Loss: 0.0000034\n"
          ]
        },
        {
          "name": "stderr",
          "output_type": "stream",
          "text": [
            "Baseline Epoch 37/100: 100%|██████████| 4653/4653 [01:13<00:00, 63.45it/s]\n"
          ]
        },
        {
          "name": "stdout",
          "output_type": "stream",
          "text": [
            "Epoch 37, Training Loss: 0.0000035, Validation Loss: 0.0000032\n"
          ]
        },
        {
          "name": "stderr",
          "output_type": "stream",
          "text": [
            "Baseline Epoch 38/100: 100%|██████████| 4653/4653 [01:13<00:00, 63.65it/s]\n"
          ]
        },
        {
          "name": "stdout",
          "output_type": "stream",
          "text": [
            "Epoch 38, Training Loss: 0.0000035, Validation Loss: 0.0000035\n"
          ]
        },
        {
          "name": "stderr",
          "output_type": "stream",
          "text": [
            "Baseline Epoch 39/100: 100%|██████████| 4653/4653 [01:13<00:00, 63.64it/s]\n"
          ]
        },
        {
          "name": "stdout",
          "output_type": "stream",
          "text": [
            "Epoch 39, Training Loss: 0.0000035, Validation Loss: 0.0000033\n"
          ]
        },
        {
          "name": "stderr",
          "output_type": "stream",
          "text": [
            "Baseline Epoch 40/100: 100%|██████████| 4653/4653 [01:13<00:00, 63.35it/s]\n"
          ]
        },
        {
          "name": "stdout",
          "output_type": "stream",
          "text": [
            "Epoch 40, Training Loss: 0.0000035, Validation Loss: 0.0000031\n"
          ]
        },
        {
          "name": "stderr",
          "output_type": "stream",
          "text": [
            "Baseline Epoch 41/100: 100%|██████████| 4653/4653 [01:13<00:00, 62.93it/s]\n"
          ]
        },
        {
          "name": "stdout",
          "output_type": "stream",
          "text": [
            "Epoch 41, Training Loss: 0.0000035, Validation Loss: 0.0000035\n"
          ]
        },
        {
          "name": "stderr",
          "output_type": "stream",
          "text": [
            "Baseline Epoch 42/100: 100%|██████████| 4653/4653 [01:13<00:00, 63.28it/s]\n"
          ]
        },
        {
          "name": "stdout",
          "output_type": "stream",
          "text": [
            "Epoch 42, Training Loss: 0.0000034, Validation Loss: 0.0000032\n"
          ]
        },
        {
          "name": "stderr",
          "output_type": "stream",
          "text": [
            "Baseline Epoch 43/100: 100%|██████████| 4653/4653 [01:13<00:00, 63.27it/s]\n"
          ]
        },
        {
          "name": "stdout",
          "output_type": "stream",
          "text": [
            "Epoch 43, Training Loss: 0.0000035, Validation Loss: 0.0000038\n"
          ]
        },
        {
          "name": "stderr",
          "output_type": "stream",
          "text": [
            "Baseline Epoch 44/100: 100%|██████████| 4653/4653 [01:14<00:00, 62.85it/s]\n"
          ]
        },
        {
          "name": "stdout",
          "output_type": "stream",
          "text": [
            "Epoch 44, Training Loss: 0.0000034, Validation Loss: 0.0000032\n"
          ]
        },
        {
          "name": "stderr",
          "output_type": "stream",
          "text": [
            "Baseline Epoch 45/100: 100%|██████████| 4653/4653 [01:13<00:00, 62.91it/s]\n"
          ]
        },
        {
          "name": "stdout",
          "output_type": "stream",
          "text": [
            "Epoch 45, Training Loss: 0.0000034, Validation Loss: 0.0000033\n"
          ]
        },
        {
          "name": "stderr",
          "output_type": "stream",
          "text": [
            "Baseline Epoch 46/100: 100%|██████████| 4653/4653 [01:14<00:00, 62.67it/s]\n"
          ]
        },
        {
          "name": "stdout",
          "output_type": "stream",
          "text": [
            "Epoch 46, Training Loss: 0.0000034, Validation Loss: 0.0000033\n"
          ]
        },
        {
          "name": "stderr",
          "output_type": "stream",
          "text": [
            "Baseline Epoch 47/100: 100%|██████████| 4653/4653 [01:13<00:00, 62.92it/s]\n"
          ]
        },
        {
          "name": "stdout",
          "output_type": "stream",
          "text": [
            "Epoch 47, Training Loss: 0.0000034, Validation Loss: 0.0000032\n"
          ]
        },
        {
          "name": "stderr",
          "output_type": "stream",
          "text": [
            "Baseline Epoch 48/100: 100%|██████████| 4653/4653 [01:14<00:00, 62.23it/s]\n"
          ]
        },
        {
          "name": "stdout",
          "output_type": "stream",
          "text": [
            "Epoch 48, Training Loss: 0.0000034, Validation Loss: 0.0000033\n"
          ]
        },
        {
          "name": "stderr",
          "output_type": "stream",
          "text": [
            "Baseline Epoch 49/100: 100%|██████████| 4653/4653 [01:14<00:00, 62.13it/s]\n"
          ]
        },
        {
          "name": "stdout",
          "output_type": "stream",
          "text": [
            "Epoch 49, Training Loss: 0.0000034, Validation Loss: 0.0000031\n"
          ]
        },
        {
          "name": "stderr",
          "output_type": "stream",
          "text": [
            "Baseline Epoch 50/100: 100%|██████████| 4653/4653 [01:14<00:00, 62.26it/s]\n"
          ]
        },
        {
          "name": "stdout",
          "output_type": "stream",
          "text": [
            "Epoch 50, Training Loss: 0.0000034, Validation Loss: 0.0000031\n"
          ]
        },
        {
          "name": "stderr",
          "output_type": "stream",
          "text": [
            "Baseline Epoch 51/100: 100%|██████████| 4653/4653 [01:14<00:00, 62.46it/s]\n"
          ]
        },
        {
          "name": "stdout",
          "output_type": "stream",
          "text": [
            "Epoch 51, Training Loss: 0.0000034, Validation Loss: 0.0000031\n"
          ]
        },
        {
          "name": "stderr",
          "output_type": "stream",
          "text": [
            "Baseline Epoch 52/100: 100%|██████████| 4653/4653 [01:14<00:00, 62.38it/s]\n"
          ]
        },
        {
          "name": "stdout",
          "output_type": "stream",
          "text": [
            "Epoch 52, Training Loss: 0.0000034, Validation Loss: 0.0000032\n"
          ]
        },
        {
          "name": "stderr",
          "output_type": "stream",
          "text": [
            "Baseline Epoch 53/100: 100%|██████████| 4653/4653 [01:14<00:00, 62.17it/s]\n"
          ]
        },
        {
          "name": "stdout",
          "output_type": "stream",
          "text": [
            "Epoch 53, Training Loss: 0.0000034, Validation Loss: 0.0000033\n"
          ]
        },
        {
          "name": "stderr",
          "output_type": "stream",
          "text": [
            "Baseline Epoch 54/100: 100%|██████████| 4653/4653 [01:14<00:00, 62.67it/s]\n"
          ]
        },
        {
          "name": "stdout",
          "output_type": "stream",
          "text": [
            "Epoch 54, Training Loss: 0.0000034, Validation Loss: 0.0000031\n"
          ]
        },
        {
          "name": "stderr",
          "output_type": "stream",
          "text": [
            "Baseline Epoch 55/100: 100%|██████████| 4653/4653 [01:13<00:00, 62.96it/s]\n"
          ]
        },
        {
          "name": "stdout",
          "output_type": "stream",
          "text": [
            "Epoch 55, Training Loss: 0.0000034, Validation Loss: 0.0000031\n"
          ]
        },
        {
          "name": "stderr",
          "output_type": "stream",
          "text": [
            "Baseline Epoch 56/100: 100%|██████████| 4653/4653 [01:13<00:00, 62.94it/s]\n"
          ]
        },
        {
          "name": "stdout",
          "output_type": "stream",
          "text": [
            "Epoch 56, Training Loss: 0.0000034, Validation Loss: 0.0000031\n"
          ]
        },
        {
          "name": "stderr",
          "output_type": "stream",
          "text": [
            "Baseline Epoch 57/100: 100%|██████████| 4653/4653 [01:13<00:00, 62.92it/s]\n"
          ]
        },
        {
          "name": "stdout",
          "output_type": "stream",
          "text": [
            "Epoch 57, Training Loss: 0.0000034, Validation Loss: 0.0000035\n"
          ]
        },
        {
          "name": "stderr",
          "output_type": "stream",
          "text": [
            "Baseline Epoch 58/100: 100%|██████████| 4653/4653 [01:14<00:00, 62.48it/s]\n"
          ]
        },
        {
          "name": "stdout",
          "output_type": "stream",
          "text": [
            "Epoch 58, Training Loss: 0.0000034, Validation Loss: 0.0000035\n"
          ]
        },
        {
          "name": "stderr",
          "output_type": "stream",
          "text": [
            "Baseline Epoch 59/100: 100%|██████████| 4653/4653 [01:15<00:00, 61.88it/s]\n"
          ]
        },
        {
          "name": "stdout",
          "output_type": "stream",
          "text": [
            "Epoch 59, Training Loss: 0.0000034, Validation Loss: 0.0000031\n"
          ]
        },
        {
          "name": "stderr",
          "output_type": "stream",
          "text": [
            "Baseline Epoch 60/100: 100%|██████████| 4653/4653 [01:15<00:00, 61.97it/s]\n"
          ]
        },
        {
          "name": "stdout",
          "output_type": "stream",
          "text": [
            "Epoch 60, Training Loss: 0.0000034, Validation Loss: 0.0000032\n"
          ]
        },
        {
          "name": "stderr",
          "output_type": "stream",
          "text": [
            "Baseline Epoch 61/100: 100%|██████████| 4653/4653 [01:14<00:00, 62.81it/s]\n"
          ]
        },
        {
          "name": "stdout",
          "output_type": "stream",
          "text": [
            "Epoch 61, Training Loss: 0.0000034, Validation Loss: 0.0000031\n"
          ]
        },
        {
          "name": "stderr",
          "output_type": "stream",
          "text": [
            "Baseline Epoch 62/100: 100%|██████████| 4653/4653 [01:13<00:00, 63.06it/s]\n"
          ]
        },
        {
          "name": "stdout",
          "output_type": "stream",
          "text": [
            "Epoch 62, Training Loss: 0.0000034, Validation Loss: 0.0000032\n"
          ]
        },
        {
          "name": "stderr",
          "output_type": "stream",
          "text": [
            "Baseline Epoch 63/100: 100%|██████████| 4653/4653 [01:13<00:00, 62.90it/s]\n"
          ]
        },
        {
          "name": "stdout",
          "output_type": "stream",
          "text": [
            "Epoch 63, Training Loss: 0.0000034, Validation Loss: 0.0000031\n"
          ]
        },
        {
          "name": "stderr",
          "output_type": "stream",
          "text": [
            "Baseline Epoch 64/100: 100%|██████████| 4653/4653 [01:14<00:00, 62.70it/s]\n"
          ]
        },
        {
          "name": "stdout",
          "output_type": "stream",
          "text": [
            "Epoch 64, Training Loss: 0.0000033, Validation Loss: 0.0000032\n"
          ]
        },
        {
          "name": "stderr",
          "output_type": "stream",
          "text": [
            "Baseline Epoch 65/100: 100%|██████████| 4653/4653 [01:15<00:00, 61.99it/s]\n"
          ]
        },
        {
          "name": "stdout",
          "output_type": "stream",
          "text": [
            "Epoch 65, Training Loss: 0.0000033, Validation Loss: 0.0000031\n"
          ]
        },
        {
          "name": "stderr",
          "output_type": "stream",
          "text": [
            "Baseline Epoch 66/100: 100%|██████████| 4653/4653 [01:13<00:00, 62.97it/s]\n"
          ]
        },
        {
          "name": "stdout",
          "output_type": "stream",
          "text": [
            "Epoch 66, Training Loss: 0.0000033, Validation Loss: 0.0000031\n"
          ]
        },
        {
          "name": "stderr",
          "output_type": "stream",
          "text": [
            "Baseline Epoch 67/100: 100%|██████████| 4653/4653 [01:14<00:00, 62.52it/s]\n"
          ]
        },
        {
          "name": "stdout",
          "output_type": "stream",
          "text": [
            "Epoch 67, Training Loss: 0.0000034, Validation Loss: 0.0000033\n"
          ]
        },
        {
          "name": "stderr",
          "output_type": "stream",
          "text": [
            "Baseline Epoch 68/100: 100%|██████████| 4653/4653 [01:14<00:00, 62.29it/s]\n"
          ]
        },
        {
          "name": "stdout",
          "output_type": "stream",
          "text": [
            "Epoch 68, Training Loss: 0.0000033, Validation Loss: 0.0000031\n"
          ]
        },
        {
          "name": "stderr",
          "output_type": "stream",
          "text": [
            "Baseline Epoch 69/100: 100%|██████████| 4653/4653 [01:14<00:00, 62.18it/s]\n"
          ]
        },
        {
          "name": "stdout",
          "output_type": "stream",
          "text": [
            "Epoch 69, Training Loss: 0.0000033, Validation Loss: 0.0000031\n"
          ]
        },
        {
          "name": "stderr",
          "output_type": "stream",
          "text": [
            "Baseline Epoch 70/100: 100%|██████████| 4653/4653 [01:13<00:00, 63.23it/s]\n"
          ]
        },
        {
          "name": "stdout",
          "output_type": "stream",
          "text": [
            "Epoch 70, Training Loss: 0.0000033, Validation Loss: 0.0000031\n"
          ]
        },
        {
          "name": "stderr",
          "output_type": "stream",
          "text": [
            "Baseline Epoch 71/100: 100%|██████████| 4653/4653 [01:13<00:00, 63.02it/s]\n"
          ]
        },
        {
          "name": "stdout",
          "output_type": "stream",
          "text": [
            "Epoch 71, Training Loss: 0.0000033, Validation Loss: 0.0000031\n"
          ]
        },
        {
          "name": "stderr",
          "output_type": "stream",
          "text": [
            "Baseline Epoch 72/100: 100%|██████████| 4653/4653 [01:14<00:00, 62.49it/s]\n"
          ]
        },
        {
          "name": "stdout",
          "output_type": "stream",
          "text": [
            "Epoch 72, Training Loss: 0.0000033, Validation Loss: 0.0000031\n"
          ]
        },
        {
          "name": "stderr",
          "output_type": "stream",
          "text": [
            "Baseline Epoch 73/100: 100%|██████████| 4653/4653 [01:13<00:00, 62.88it/s]\n"
          ]
        },
        {
          "name": "stdout",
          "output_type": "stream",
          "text": [
            "Epoch 73, Training Loss: 0.0000033, Validation Loss: 0.0000032\n"
          ]
        },
        {
          "name": "stderr",
          "output_type": "stream",
          "text": [
            "Baseline Epoch 74/100: 100%|██████████| 4653/4653 [01:13<00:00, 63.34it/s]\n"
          ]
        },
        {
          "name": "stdout",
          "output_type": "stream",
          "text": [
            "Epoch 74, Training Loss: 0.0000033, Validation Loss: 0.0000031\n"
          ]
        },
        {
          "name": "stderr",
          "output_type": "stream",
          "text": [
            "Baseline Epoch 75/100: 100%|██████████| 4653/4653 [01:13<00:00, 63.29it/s]\n"
          ]
        },
        {
          "name": "stdout",
          "output_type": "stream",
          "text": [
            "Epoch 75, Training Loss: 0.0000033, Validation Loss: 0.0000031\n"
          ]
        },
        {
          "name": "stderr",
          "output_type": "stream",
          "text": [
            "Baseline Epoch 76/100: 100%|██████████| 4653/4653 [01:14<00:00, 62.59it/s]\n"
          ]
        },
        {
          "name": "stdout",
          "output_type": "stream",
          "text": [
            "Epoch 76, Training Loss: 0.0000033, Validation Loss: 0.0000031\n"
          ]
        },
        {
          "name": "stderr",
          "output_type": "stream",
          "text": [
            "Baseline Epoch 77/100: 100%|██████████| 4653/4653 [01:13<00:00, 63.48it/s]\n"
          ]
        },
        {
          "name": "stdout",
          "output_type": "stream",
          "text": [
            "Epoch 77, Training Loss: 0.0000033, Validation Loss: 0.0000033\n"
          ]
        },
        {
          "name": "stderr",
          "output_type": "stream",
          "text": [
            "Baseline Epoch 78/100: 100%|██████████| 4653/4653 [01:13<00:00, 63.59it/s]\n"
          ]
        },
        {
          "name": "stdout",
          "output_type": "stream",
          "text": [
            "Epoch 78, Training Loss: 0.0000033, Validation Loss: 0.0000031\n"
          ]
        },
        {
          "name": "stderr",
          "output_type": "stream",
          "text": [
            "Baseline Epoch 79/100: 100%|██████████| 4653/4653 [01:15<00:00, 61.83it/s]\n"
          ]
        },
        {
          "name": "stdout",
          "output_type": "stream",
          "text": [
            "Epoch 79, Training Loss: 0.0000033, Validation Loss: 0.0000031\n"
          ]
        },
        {
          "name": "stderr",
          "output_type": "stream",
          "text": [
            "Baseline Epoch 80/100: 100%|██████████| 4653/4653 [01:13<00:00, 63.59it/s]\n"
          ]
        },
        {
          "name": "stdout",
          "output_type": "stream",
          "text": [
            "Epoch 80, Training Loss: 0.0000033, Validation Loss: 0.0000031\n"
          ]
        },
        {
          "name": "stderr",
          "output_type": "stream",
          "text": [
            "Baseline Epoch 81/100: 100%|██████████| 4653/4653 [01:13<00:00, 63.28it/s]\n"
          ]
        },
        {
          "name": "stdout",
          "output_type": "stream",
          "text": [
            "Epoch 81, Training Loss: 0.0000033, Validation Loss: 0.0000031\n"
          ]
        },
        {
          "name": "stderr",
          "output_type": "stream",
          "text": [
            "Baseline Epoch 82/100: 100%|██████████| 4653/4653 [01:13<00:00, 63.52it/s]\n"
          ]
        },
        {
          "name": "stdout",
          "output_type": "stream",
          "text": [
            "Epoch 82, Training Loss: 0.0000033, Validation Loss: 0.0000032\n"
          ]
        },
        {
          "name": "stderr",
          "output_type": "stream",
          "text": [
            "Baseline Epoch 83/100: 100%|██████████| 4653/4653 [01:13<00:00, 63.52it/s]\n"
          ]
        },
        {
          "name": "stdout",
          "output_type": "stream",
          "text": [
            "Epoch 83, Training Loss: 0.0000033, Validation Loss: 0.0000031\n"
          ]
        },
        {
          "name": "stderr",
          "output_type": "stream",
          "text": [
            "Baseline Epoch 84/100: 100%|██████████| 4653/4653 [01:13<00:00, 63.53it/s]\n"
          ]
        },
        {
          "name": "stdout",
          "output_type": "stream",
          "text": [
            "Epoch 84, Training Loss: 0.0000033, Validation Loss: 0.0000032\n"
          ]
        },
        {
          "name": "stderr",
          "output_type": "stream",
          "text": [
            "Baseline Epoch 85/100: 100%|██████████| 4653/4653 [01:13<00:00, 63.48it/s]\n"
          ]
        },
        {
          "name": "stdout",
          "output_type": "stream",
          "text": [
            "Epoch 85, Training Loss: 0.0000033, Validation Loss: 0.0000031\n"
          ]
        },
        {
          "name": "stderr",
          "output_type": "stream",
          "text": [
            "Baseline Epoch 86/100: 100%|██████████| 4653/4653 [01:13<00:00, 63.28it/s]\n"
          ]
        },
        {
          "name": "stdout",
          "output_type": "stream",
          "text": [
            "Epoch 86, Training Loss: 0.0000033, Validation Loss: 0.0000031\n"
          ]
        },
        {
          "name": "stderr",
          "output_type": "stream",
          "text": [
            "Baseline Epoch 87/100: 100%|██████████| 4653/4653 [01:13<00:00, 63.56it/s]\n"
          ]
        },
        {
          "name": "stdout",
          "output_type": "stream",
          "text": [
            "Epoch 87, Training Loss: 0.0000033, Validation Loss: 0.0000031\n"
          ]
        },
        {
          "name": "stderr",
          "output_type": "stream",
          "text": [
            "Baseline Epoch 88/100: 100%|██████████| 4653/4653 [01:13<00:00, 63.45it/s]\n"
          ]
        },
        {
          "name": "stdout",
          "output_type": "stream",
          "text": [
            "Epoch 88, Training Loss: 0.0000033, Validation Loss: 0.0000032\n"
          ]
        },
        {
          "name": "stderr",
          "output_type": "stream",
          "text": [
            "Baseline Epoch 89/100: 100%|██████████| 4653/4653 [01:13<00:00, 63.42it/s]\n"
          ]
        },
        {
          "name": "stdout",
          "output_type": "stream",
          "text": [
            "Epoch 89, Training Loss: 0.0000033, Validation Loss: 0.0000031\n"
          ]
        },
        {
          "name": "stderr",
          "output_type": "stream",
          "text": [
            "Baseline Epoch 90/100: 100%|██████████| 4653/4653 [01:13<00:00, 63.39it/s]\n"
          ]
        },
        {
          "name": "stdout",
          "output_type": "stream",
          "text": [
            "Epoch 90, Training Loss: 0.0000033, Validation Loss: 0.0000033\n"
          ]
        },
        {
          "name": "stderr",
          "output_type": "stream",
          "text": [
            "Baseline Epoch 91/100: 100%|██████████| 4653/4653 [01:13<00:00, 63.63it/s]\n"
          ]
        },
        {
          "name": "stdout",
          "output_type": "stream",
          "text": [
            "Epoch 91, Training Loss: 0.0000033, Validation Loss: 0.0000031\n"
          ]
        },
        {
          "name": "stderr",
          "output_type": "stream",
          "text": [
            "Baseline Epoch 92/100: 100%|██████████| 4653/4653 [01:14<00:00, 62.85it/s]\n"
          ]
        },
        {
          "name": "stdout",
          "output_type": "stream",
          "text": [
            "Epoch 92, Training Loss: 0.0000033, Validation Loss: 0.0000031\n"
          ]
        },
        {
          "name": "stderr",
          "output_type": "stream",
          "text": [
            "Baseline Epoch 93/100: 100%|██████████| 4653/4653 [01:14<00:00, 62.84it/s]\n"
          ]
        },
        {
          "name": "stdout",
          "output_type": "stream",
          "text": [
            "Epoch 93, Training Loss: 0.0000033, Validation Loss: 0.0000032\n"
          ]
        },
        {
          "name": "stderr",
          "output_type": "stream",
          "text": [
            "Baseline Epoch 94/100: 100%|██████████| 4653/4653 [01:14<00:00, 62.72it/s]\n"
          ]
        },
        {
          "name": "stdout",
          "output_type": "stream",
          "text": [
            "Epoch 94, Training Loss: 0.0000033, Validation Loss: 0.0000032\n"
          ]
        },
        {
          "name": "stderr",
          "output_type": "stream",
          "text": [
            "Baseline Epoch 95/100: 100%|██████████| 4653/4653 [01:13<00:00, 63.21it/s]\n"
          ]
        },
        {
          "name": "stdout",
          "output_type": "stream",
          "text": [
            "Epoch 95, Training Loss: 0.0000033, Validation Loss: 0.0000031\n"
          ]
        },
        {
          "name": "stderr",
          "output_type": "stream",
          "text": [
            "Baseline Epoch 96/100: 100%|██████████| 4653/4653 [01:13<00:00, 63.38it/s]\n"
          ]
        },
        {
          "name": "stdout",
          "output_type": "stream",
          "text": [
            "Epoch 96, Training Loss: 0.0000033, Validation Loss: 0.0000034\n"
          ]
        },
        {
          "name": "stderr",
          "output_type": "stream",
          "text": [
            "Baseline Epoch 97/100: 100%|██████████| 4653/4653 [01:13<00:00, 63.34it/s]\n"
          ]
        },
        {
          "name": "stdout",
          "output_type": "stream",
          "text": [
            "Epoch 97, Training Loss: 0.0000033, Validation Loss: 0.0000031\n"
          ]
        },
        {
          "name": "stderr",
          "output_type": "stream",
          "text": [
            "Baseline Epoch 98/100: 100%|██████████| 4653/4653 [01:13<00:00, 63.38it/s]\n"
          ]
        },
        {
          "name": "stdout",
          "output_type": "stream",
          "text": [
            "Epoch 98, Training Loss: 0.0000033, Validation Loss: 0.0000031\n"
          ]
        },
        {
          "name": "stderr",
          "output_type": "stream",
          "text": [
            "Baseline Epoch 99/100: 100%|██████████| 4653/4653 [01:13<00:00, 63.21it/s]\n"
          ]
        },
        {
          "name": "stdout",
          "output_type": "stream",
          "text": [
            "Epoch 99, Training Loss: 0.0000033, Validation Loss: 0.0000031\n"
          ]
        },
        {
          "name": "stderr",
          "output_type": "stream",
          "text": [
            "Baseline Epoch 100/100: 100%|██████████| 4653/4653 [01:13<00:00, 63.43it/s]\n"
          ]
        },
        {
          "name": "stdout",
          "output_type": "stream",
          "text": [
            "Epoch 100, Training Loss: 0.0000033, Validation Loss: 0.0000030\n"
          ]
        }
      ],
      "source": [
        "# Baseline 학습 및 검증\n",
        "for epoch in range(config_baseline[\"num_epochs\"]):\n",
        "    model_baseline.train()\n",
        "    running_loss = 0.0\n",
        "    for inputs, targets in tqdm(train_loader_baseline, desc=f\"Baseline Epoch {epoch + 1}/{config_baseline['num_epochs']}\"):\n",
        "        inputs, targets = inputs.to(device), targets.to(device)\n",
        "        optimizer_baseline.zero_grad()\n",
        "        loss = criterion(model_baseline(inputs), targets)\n",
        "        loss.backward()\n",
        "        optimizer_baseline.step()\n",
        "        running_loss += loss.item()\n",
        "\n",
        "    # 검증 단계\n",
        "    model_baseline.eval()\n",
        "    val_loss = 0.0\n",
        "    with torch.no_grad():\n",
        "        for inputs, targets in val_loader_baseline:\n",
        "            inputs, targets = inputs.to(device), targets.to(device)\n",
        "            loss = criterion(model_baseline(inputs), targets)\n",
        "            val_loss += loss.item()\n",
        "    print(f\"Epoch {epoch + 1}, Training Loss: {running_loss / len(train_loader_baseline):.7f}, Validation Loss: {val_loss / len(val_loader_baseline):.7f}\")"
      ]
    },
    {
      "cell_type": "code",
      "execution_count": null,
      "metadata": {
        "colab": {
          "base_uri": "https://localhost:8080/"
        },
        "id": "of3VcOVpOGpy",
        "outputId": "4128076e-3ac2-4b53-a5e9-aacee39631fa"
      },
      "outputs": [
        {
          "name": "stdout",
          "output_type": "stream",
          "text": [
            "Number of predicted values for training data: 4764412\n",
            "Number of predicted values for validation data: 2089579\n"
          ]
        }
      ],
      "source": [
        "# Baseline 예측값 생성\n",
        "def predict_internal_temperature(model, data_loader, device):\n",
        "    model.eval()\n",
        "    predictions = []\n",
        "    with torch.no_grad():\n",
        "        for inputs, _ in data_loader:\n",
        "            inputs = inputs.to(device)\n",
        "            outputs = model(inputs)\n",
        "            predictions.append(outputs.cpu().numpy())\n",
        "    return np.concatenate(predictions, axis=0)\n",
        "\n",
        "# 기존 모델로 내부온도 예측\n",
        "predicted_temp_train = predict_internal_temperature(model_baseline, train_loader_baseline, device)\n",
        "predicted_temp_val = predict_internal_temperature(model_baseline, val_loader_baseline, device)\n",
        "\n",
        "print(f\"Number of predicted values for training data: {len(predicted_temp_train)}\")\n",
        "print(f\"Number of predicted values for validation data: {len(predicted_temp_val)}\")"
      ]
    },
    {
      "cell_type": "code",
      "execution_count": null,
      "metadata": {
        "colab": {
          "base_uri": "https://localhost:8080/"
        },
        "id": "ciUoE4jsq4gf",
        "outputId": "7f3e8e0d-30d8-4256-ee66-ca4bd174b739"
      },
      "outputs": [
        {
          "name": "stdout",
          "output_type": "stream",
          "text": [
            "Predicted values for training data :\n",
            "[[0.3840378 ]\n",
            " [0.22580732]\n",
            " [0.26956695]\n",
            " [0.37633896]\n",
            " [0.40213168]\n",
            " [0.6226708 ]\n",
            " [0.30637777]\n",
            " [0.27156958]\n",
            " [0.34154496]\n",
            " [0.2686753 ]]\n"
          ]
        }
      ],
      "source": [
        "# 훈련 예측값의 상위 10개 출력 (정규화 O)\n",
        "print(\"Predicted values for training data :\")\n",
        "print(predicted_temp_train[:10])"
      ]
    },
    {
      "cell_type": "code",
      "execution_count": null,
      "metadata": {
        "colab": {
          "base_uri": "https://localhost:8080/"
        },
        "id": "rygqW5yZVV9_",
        "outputId": "3929c293-300b-448c-f34d-d839b9253505"
      },
      "outputs": [
        {
          "name": "stdout",
          "output_type": "stream",
          "text": [
            "Number of predicted values for training data: 4764412\n",
            "Number of predicted values for validation data: 2089579\n"
          ]
        }
      ],
      "source": [
        "# 역정규화 함수\n",
        "def inverse_transform_predictions(predictions, scaler, feature_columns_with_target):\n",
        "    # 스케일러가 학습한 전체 feature 개수에 맞게 차원 확장\n",
        "    padded_predictions = np.hstack([\n",
        "        predictions,\n",
        "        np.zeros((predictions.shape[0], len(feature_columns_with_target) - 1))\n",
        "    ])\n",
        "    # 역정규화 수행\n",
        "    original_values = scaler.inverse_transform(padded_predictions)\n",
        "    return original_values[:, 0]  # 내부온도 값만 반환\n",
        "\n",
        "# 역정규화된 예측값 생성 (np.round로 소숫점 반올림)\n",
        "feature_columns_with_target = config_baseline[\"feature_columns\"] + [config_baseline[\"target_column\"]]\n",
        "predicted_temp_train_original = np.round(\n",
        "    inverse_transform_predictions(predicted_temp_train.reshape(-1, 1), scaler_baseline, feature_columns_with_target),\n",
        "    1\n",
        ")\n",
        "predicted_temp_val_original = np.round(\n",
        "    inverse_transform_predictions(predicted_temp_val.reshape(-1, 1), scaler_baseline, feature_columns_with_target),\n",
        "    1\n",
        ")\n",
        "\n",
        "# 예측 값을 원본 데이터프레임에 추가 (시퀀스 길이 고려)\n",
        "sequence_length = config_baseline[\"sequence_length\"]\n",
        "\n",
        "train_data_with_predictions = train_data.iloc[sequence_length:].copy()\n",
        "train_data_with_predictions['내부온도'] = predicted_temp_train_original  # 역정규화된 값 추가\n",
        "\n",
        "val_data_with_predictions = val_data.iloc[sequence_length:].copy()\n",
        "val_data_with_predictions['내부온도'] = predicted_temp_val_original  # 역정규화된 값 추가\n",
        "\n",
        "print(f\"Number of predicted values for training data: {len(train_data_with_predictions)}\")\n",
        "print(f\"Number of predicted values for validation data: {len(val_data_with_predictions)}\")"
      ]
    },
    {
      "cell_type": "code",
      "execution_count": null,
      "metadata": {
        "colab": {
          "base_uri": "https://localhost:8080/"
        },
        "id": "scWGF5p20NxC",
        "outputId": "0cab2f51-b17f-4064-d1c4-cdeb62023f42"
      },
      "outputs": [
        {
          "name": "stdout",
          "output_type": "stream",
          "text": [
            "Train data with predictions (Top 10):\n",
            "    내부온도  내부온도1  내부온도2  내부온도3  내부습도  내부습도1  내부습도2  내부습도3   지온   지습  ...  \\\n",
            "30  23.2   13.2   14.0   30.8  85.7   82.2   89.2   64.2  0.0  0.0  ...   \n",
            "31  13.6   13.2   14.0   28.6  85.7   81.9   89.5   98.7  0.0  0.0  ...   \n",
            "32  16.3   13.3   14.1   31.4  85.2   81.3   89.1  100.0  0.0  0.0  ...   \n",
            "33  22.7   13.3   14.1   34.6  84.9   81.2   88.6  100.0  0.0  0.0  ...   \n",
            "34  24.2   13.4   14.1   37.9  84.8   81.0   88.5  100.0  0.0  0.0  ...   \n",
            "35  37.5   13.4   14.1   41.5  84.8   81.0   88.5  100.0  0.0  0.0  ...   \n",
            "36  18.5   13.4   14.1   45.1  85.1   81.6   88.5  100.0  0.0  0.0  ...   \n",
            "37  16.4   13.5   14.1   49.3  84.8   81.1   88.5  100.0  0.0  0.0  ...   \n",
            "38  20.6   13.5   14.1   53.7  84.8   81.1   88.5  100.0  0.0  0.0  ...   \n",
            "39  16.2   13.6   14.1   52.2  84.5   80.5   88.5   55.8  0.0  0.0  ...   \n",
            "\n",
            "    공급온도2  정전신호  로그인상태  회수온도1  회수온도2  EC1  EC2  PH1  PH2  내부일사  \n",
            "30    0.0     1      1    0.0      0  0.0  1.5  0.0  0.0     0  \n",
            "31    0.0     1      1    0.0      0  0.0  1.5  0.0  0.0     0  \n",
            "32    0.0     1      1    0.0      0  0.0  1.5  0.0  0.0     0  \n",
            "33    0.0     1      1    0.0      0  0.0  1.5  0.0  0.0     0  \n",
            "34    0.0     1      1    0.0      0  0.0  1.5  0.0  0.0     0  \n",
            "35    0.0     1      1    0.0      0  0.0  1.5  0.0  0.0     0  \n",
            "36    0.0     1      1    0.0      0  0.0  1.5  0.0  0.0     0  \n",
            "37    0.0     1      1    0.0      0  0.0  1.5  0.0  0.0     0  \n",
            "38    0.0     1      1    0.0      0  0.0  1.5  0.0  0.0     0  \n",
            "39    0.0     1      1    0.0      0  0.0  1.5  0.0  0.0     0  \n",
            "\n",
            "[10 rows x 83 columns]\n"
          ]
        }
      ],
      "source": [
        "# 확인용 출력\n",
        "print(\"Train data with predictions (Top 10):\")\n",
        "print(train_data_with_predictions.head(10))"
      ]
    },
    {
      "cell_type": "code",
      "execution_count": null,
      "metadata": {
        "colab": {
          "base_uri": "https://localhost:8080/"
        },
        "id": "BMioRy4zZ7yK",
        "outputId": "4c8249a4-65e0-47de-fdb2-c81b927d20fb"
      },
      "outputs": [
        {
          "name": "stdout",
          "output_type": "stream",
          "text": [
            "2022년 데이터에 대한 역정규화된 RMSE: 0.1248\n",
            "2022년 데이터에 대한 역정규화된 R²: 0.9996\n"
          ]
        }
      ],
      "source": [
        "# 역정규화 함수\n",
        "def inverse_transform(scaler, data, feature_columns_with_target):\n",
        "    \"\"\"\n",
        "    데이터 역정규화 함수\n",
        "    :param scaler: MinMaxScaler 객체\n",
        "    :param data: 정규화된 데이터 (numpy 배열)\n",
        "    :param feature_columns_with_target: feature와 target column 이름을 포함한 리스트\n",
        "    :return: target column의 역정규화된 값\n",
        "    \"\"\"\n",
        "    # 예측 데이터와 동일한 차원을 가진 빈 배열 생성\n",
        "    full_data = np.zeros((data.shape[0], len(feature_columns_with_target)))\n",
        "    full_data[:, -1] = data.squeeze()  # target column 위치에만 데이터 할당\n",
        "    inversed = scaler.inverse_transform(full_data)  # 역정규화\n",
        "    return inversed[:, -1]  # target column만 반환\n",
        "\n",
        "# 2022년도 테스트 데이터 예측 및 역정규화\n",
        "model_baseline.eval()  # 모델을 평가 모드로 전환\n",
        "predictions = []\n",
        "actuals = []\n",
        "\n",
        "with torch.no_grad():\n",
        "    for inputs, targets in test_loader_baseline:\n",
        "        inputs = inputs.to(device)\n",
        "        output = model_baseline(inputs).cpu().numpy()  # 모델 출력\n",
        "        predictions.append(output)\n",
        "        actuals.append(targets.cpu().numpy())\n",
        "\n",
        "# 예측값과 실제값 배열로 변환\n",
        "predictions = np.concatenate(predictions, axis=0)  # 리스트를 배열로 변환\n",
        "actuals = np.concatenate(actuals, axis=0)\n",
        "\n",
        "# 역정규화\n",
        "feature_columns_with_target = config_baseline[\"feature_columns\"] + [config_baseline[\"target_column\"]]\n",
        "predictions_inverse = inverse_transform(scaler_baseline, predictions, feature_columns_with_target)\n",
        "actuals_inverse = inverse_transform(scaler_baseline, actuals, feature_columns_with_target)\n",
        "\n",
        "# RMSE 및 R² 계산\n",
        "rmse = np.sqrt(mean_squared_error(actuals_inverse, predictions_inverse))\n",
        "r2 = r2_score(actuals_inverse, predictions_inverse)\n",
        "\n",
        "print(f\"2022년 데이터에 대한 역정규화된 RMSE: {rmse:.4f}\")\n",
        "print(f\"2022년 데이터에 대한 역정규화된 R²: {r2:.4f}\")\n"
      ]
    },
    {
      "cell_type": "code",
      "execution_count": null,
      "metadata": {
        "id": "7AIcvs7hl6Sw"
      },
      "outputs": [],
      "source": [
        "# FineTuning 설정값\n",
        "config_finetuning = {\n",
        "    \"sequence_length\": 30,\n",
        "    \"batch_size\": 1024,\n",
        "    \"hidden_size\": 512,\n",
        "    \"num_layers\": 1,\n",
        "    \"dropout_rate\": 0,\n",
        "    \"learning_rate\": 0.0001,\n",
        "    \"num_epochs\": 100,\n",
        "    \"feature_columns\": ['내부온도', '공급온도1', '천창좌개도', '천창우개도', '커튼상개도', '커튼하개도',\n",
        "                        '측커튼개도', '외부커튼개도', '3Way밸브1개도', '3Way밸브2개도'],\n",
        "    \"target_column\": ['공급온도1', '천창좌개도', '천창우개도', '커튼상개도', '커튼하개도',\n",
        "                        '측커튼개도', '외부커튼개도', '3Way밸브1개도', '3Way밸브2개도'],\n",
        "    \"model_type\": \"LSTM\"  # \"LSTM\", \"GRU\", \"RNN\" 중 하나 선택\n",
        "}"
      ]
    },
    {
      "cell_type": "code",
      "execution_count": null,
      "metadata": {
        "id": "36qKtWZx8uro"
      },
      "outputs": [],
      "source": [
        "def preprocess_data(df, scaler=None, fit_scaler=False, config=None):\n",
        "    # feature_columns와 target_column이 리스트 형태인지 확인\n",
        "    feature_columns = config[\"feature_columns\"]\n",
        "    target_columns = config[\"target_column\"]\n",
        "\n",
        "    # 스케일러 학습\n",
        "    if fit_scaler:\n",
        "        scaler = MinMaxScaler().fit(df[feature_columns + target_columns])\n",
        "\n",
        "    # 스케일링\n",
        "    scaled = scaler.transform(df[feature_columns + target_columns])\n",
        "\n",
        "    # 시퀀스 데이터 생성\n",
        "    x = np.array([scaled[i - config[\"sequence_length\"]:i, :len(feature_columns)]\n",
        "                  for i in range(config[\"sequence_length\"], len(scaled))])\n",
        "    y = np.array([scaled[i, len(feature_columns):] for i in range(config[\"sequence_length\"], len(scaled))])\n",
        "\n",
        "    return torch.tensor(x, dtype=torch.float32), torch.tensor(y, dtype=torch.float32), scaler"
      ]
    },
    {
      "cell_type": "code",
      "execution_count": null,
      "metadata": {
        "id": "GnejMMgyKlZb"
      },
      "outputs": [],
      "source": [
        "# Fine-tuning 스케일러 학습\n",
        "finetuning_scaler = MinMaxScaler()\n",
        "finetuning_scaler.fit(train_data_with_predictions[config_finetuning[\"feature_columns\"] + config_finetuning[\"target_column\"]])\n",
        "\n",
        "# Fine-tuning 데이터 준비\n",
        "x_train_finetuning, y_train_finetuning, _ = preprocess_data(\n",
        "    train_data_with_predictions,\n",
        "    scaler=finetuning_scaler,\n",
        "    fit_scaler=False,\n",
        "    config=config_finetuning\n",
        ")\n",
        "\n",
        "x_val_finetuning, y_val_finetuning, _ = preprocess_data(\n",
        "    val_data_with_predictions,\n",
        "    scaler=finetuning_scaler,\n",
        "    fit_scaler=False,\n",
        "    config=config_finetuning\n",
        ")\n",
        "\n",
        "# Fine-tuning DataLoader 생성\n",
        "train_loader_finetuning = DataLoader(TensorDataset(x_train_finetuning, y_train_finetuning), batch_size=config_finetuning[\"batch_size\"], shuffle=False)\n",
        "val_loader_finetuning = DataLoader(TensorDataset(x_val_finetuning, y_val_finetuning), batch_size=config_finetuning[\"batch_size\"], shuffle=False)"
      ]
    },
    {
      "cell_type": "code",
      "execution_count": null,
      "metadata": {
        "id": "EZoQ1B5jBXWI"
      },
      "outputs": [],
      "source": [
        "model_finetuning = select_model(\n",
        "    model_type=config_finetuning[\"model_type\"],\n",
        "    input_size=len(config_finetuning[\"feature_columns\"]),\n",
        "    hidden_size=config_finetuning[\"hidden_size\"],\n",
        "    output_size=len(config_finetuning[\"target_column\"]),\n",
        "    num_layers=config_finetuning[\"num_layers\"],\n",
        "    dropout_rate=config_finetuning[\"dropout_rate\"]\n",
        ").to(device)\n",
        "\n",
        "optimizer_finetuning = optim.AdamW(model_finetuning.parameters(), lr=config_finetuning[\"learning_rate\"])"
      ]
    },
    {
      "cell_type": "code",
      "execution_count": null,
      "metadata": {
        "colab": {
          "background_save": true,
          "base_uri": "https://localhost:8080/"
        },
        "id": "a0UvH66wmyjS",
        "outputId": "4c33e803-be8f-44cd-e98e-6f2890280915"
      },
      "outputs": [
        {
          "name": "stderr",
          "output_type": "stream",
          "text": [
            "FineTuning Epoch 1/100: 100%|██████████| 4653/4653 [01:10<00:00, 65.99it/s]\n"
          ]
        },
        {
          "name": "stdout",
          "output_type": "stream",
          "text": [
            "Epoch 1, Training Loss: 0.04642, Validation Loss: 0.07235\n"
          ]
        },
        {
          "name": "stderr",
          "output_type": "stream",
          "text": [
            "FineTuning Epoch 2/100: 100%|██████████| 4653/4653 [01:10<00:00, 66.17it/s]\n"
          ]
        },
        {
          "name": "stdout",
          "output_type": "stream",
          "text": [
            "Epoch 2, Training Loss: 0.01350, Validation Loss: 0.04583\n"
          ]
        },
        {
          "name": "stderr",
          "output_type": "stream",
          "text": [
            "FineTuning Epoch 3/100: 100%|██████████| 4653/4653 [01:10<00:00, 66.30it/s]\n"
          ]
        },
        {
          "name": "stdout",
          "output_type": "stream",
          "text": [
            "Epoch 3, Training Loss: 0.00382, Validation Loss: 0.01164\n"
          ]
        },
        {
          "name": "stderr",
          "output_type": "stream",
          "text": [
            "FineTuning Epoch 4/100: 100%|██████████| 4653/4653 [01:10<00:00, 66.32it/s]\n"
          ]
        },
        {
          "name": "stdout",
          "output_type": "stream",
          "text": [
            "Epoch 4, Training Loss: 0.00208, Validation Loss: 0.00866\n"
          ]
        },
        {
          "name": "stderr",
          "output_type": "stream",
          "text": [
            "FineTuning Epoch 5/100: 100%|██████████| 4653/4653 [01:10<00:00, 65.95it/s]\n"
          ]
        },
        {
          "name": "stdout",
          "output_type": "stream",
          "text": [
            "Epoch 5, Training Loss: 0.00157, Validation Loss: 0.00624\n"
          ]
        },
        {
          "name": "stderr",
          "output_type": "stream",
          "text": [
            "FineTuning Epoch 6/100: 100%|██████████| 4653/4653 [01:10<00:00, 65.89it/s]\n"
          ]
        },
        {
          "name": "stdout",
          "output_type": "stream",
          "text": [
            "Epoch 6, Training Loss: 0.00133, Validation Loss: 0.00377\n"
          ]
        },
        {
          "name": "stderr",
          "output_type": "stream",
          "text": [
            "FineTuning Epoch 7/100: 100%|██████████| 4653/4653 [01:10<00:00, 65.86it/s]\n"
          ]
        },
        {
          "name": "stdout",
          "output_type": "stream",
          "text": [
            "Epoch 7, Training Loss: 0.00114, Validation Loss: 0.00295\n"
          ]
        },
        {
          "name": "stderr",
          "output_type": "stream",
          "text": [
            "FineTuning Epoch 8/100: 100%|██████████| 4653/4653 [01:10<00:00, 66.08it/s]\n"
          ]
        },
        {
          "name": "stdout",
          "output_type": "stream",
          "text": [
            "Epoch 8, Training Loss: 0.00090, Validation Loss: 0.00230\n"
          ]
        },
        {
          "name": "stderr",
          "output_type": "stream",
          "text": [
            "FineTuning Epoch 9/100: 100%|██████████| 4653/4653 [01:10<00:00, 65.93it/s]\n"
          ]
        },
        {
          "name": "stdout",
          "output_type": "stream",
          "text": [
            "Epoch 9, Training Loss: 0.00074, Validation Loss: 0.00201\n"
          ]
        },
        {
          "name": "stderr",
          "output_type": "stream",
          "text": [
            "FineTuning Epoch 10/100: 100%|██████████| 4653/4653 [01:10<00:00, 65.85it/s]\n"
          ]
        },
        {
          "name": "stdout",
          "output_type": "stream",
          "text": [
            "Epoch 10, Training Loss: 0.00069, Validation Loss: 0.00206\n"
          ]
        },
        {
          "name": "stderr",
          "output_type": "stream",
          "text": [
            "FineTuning Epoch 11/100: 100%|██████████| 4653/4653 [01:10<00:00, 65.79it/s]\n"
          ]
        },
        {
          "name": "stdout",
          "output_type": "stream",
          "text": [
            "Epoch 11, Training Loss: 0.00066, Validation Loss: 0.00185\n"
          ]
        },
        {
          "name": "stderr",
          "output_type": "stream",
          "text": [
            "FineTuning Epoch 12/100: 100%|██████████| 4653/4653 [01:10<00:00, 65.76it/s]\n"
          ]
        },
        {
          "name": "stdout",
          "output_type": "stream",
          "text": [
            "Epoch 12, Training Loss: 0.00064, Validation Loss: 0.00165\n"
          ]
        },
        {
          "name": "stderr",
          "output_type": "stream",
          "text": [
            "FineTuning Epoch 13/100: 100%|██████████| 4653/4653 [01:10<00:00, 66.00it/s]\n"
          ]
        },
        {
          "name": "stdout",
          "output_type": "stream",
          "text": [
            "Epoch 13, Training Loss: 0.00062, Validation Loss: 0.00149\n"
          ]
        },
        {
          "name": "stderr",
          "output_type": "stream",
          "text": [
            "FineTuning Epoch 14/100: 100%|██████████| 4653/4653 [01:10<00:00, 65.73it/s]\n"
          ]
        },
        {
          "name": "stdout",
          "output_type": "stream",
          "text": [
            "Epoch 14, Training Loss: 0.00061, Validation Loss: 0.00126\n"
          ]
        },
        {
          "name": "stderr",
          "output_type": "stream",
          "text": [
            "FineTuning Epoch 15/100: 100%|██████████| 4653/4653 [01:10<00:00, 65.59it/s]\n"
          ]
        },
        {
          "name": "stdout",
          "output_type": "stream",
          "text": [
            "Epoch 15, Training Loss: 0.00060, Validation Loss: 0.00119\n"
          ]
        },
        {
          "name": "stderr",
          "output_type": "stream",
          "text": [
            "FineTuning Epoch 16/100: 100%|██████████| 4653/4653 [01:10<00:00, 66.02it/s]\n"
          ]
        },
        {
          "name": "stdout",
          "output_type": "stream",
          "text": [
            "Epoch 16, Training Loss: 0.00060, Validation Loss: 0.00143\n"
          ]
        },
        {
          "name": "stderr",
          "output_type": "stream",
          "text": [
            "FineTuning Epoch 17/100: 100%|██████████| 4653/4653 [01:10<00:00, 65.79it/s]\n"
          ]
        },
        {
          "name": "stdout",
          "output_type": "stream",
          "text": [
            "Epoch 17, Training Loss: 0.00059, Validation Loss: 0.00129\n"
          ]
        },
        {
          "name": "stderr",
          "output_type": "stream",
          "text": [
            "FineTuning Epoch 18/100: 100%|██████████| 4653/4653 [01:10<00:00, 65.77it/s]\n"
          ]
        },
        {
          "name": "stdout",
          "output_type": "stream",
          "text": [
            "Epoch 18, Training Loss: 0.00058, Validation Loss: 0.00128\n"
          ]
        },
        {
          "name": "stderr",
          "output_type": "stream",
          "text": [
            "FineTuning Epoch 19/100: 100%|██████████| 4653/4653 [01:10<00:00, 65.72it/s]\n"
          ]
        },
        {
          "name": "stdout",
          "output_type": "stream",
          "text": [
            "Epoch 19, Training Loss: 0.00058, Validation Loss: 0.00133\n"
          ]
        },
        {
          "name": "stderr",
          "output_type": "stream",
          "text": [
            "FineTuning Epoch 20/100: 100%|██████████| 4653/4653 [01:11<00:00, 65.34it/s]\n"
          ]
        },
        {
          "name": "stdout",
          "output_type": "stream",
          "text": [
            "Epoch 20, Training Loss: 0.00057, Validation Loss: 0.00137\n"
          ]
        },
        {
          "name": "stderr",
          "output_type": "stream",
          "text": [
            "FineTuning Epoch 21/100: 100%|██████████| 4653/4653 [01:10<00:00, 65.66it/s]\n"
          ]
        },
        {
          "name": "stdout",
          "output_type": "stream",
          "text": [
            "Epoch 21, Training Loss: 0.00056, Validation Loss: 0.00142\n"
          ]
        },
        {
          "name": "stderr",
          "output_type": "stream",
          "text": [
            "FineTuning Epoch 22/100: 100%|██████████| 4653/4653 [01:10<00:00, 65.85it/s]\n"
          ]
        },
        {
          "name": "stdout",
          "output_type": "stream",
          "text": [
            "Epoch 22, Training Loss: 0.00056, Validation Loss: 0.00139\n"
          ]
        },
        {
          "name": "stderr",
          "output_type": "stream",
          "text": [
            "FineTuning Epoch 23/100: 100%|██████████| 4653/4653 [01:10<00:00, 65.77it/s]\n"
          ]
        },
        {
          "name": "stdout",
          "output_type": "stream",
          "text": [
            "Epoch 23, Training Loss: 0.00055, Validation Loss: 0.00134\n"
          ]
        },
        {
          "name": "stderr",
          "output_type": "stream",
          "text": [
            "FineTuning Epoch 24/100: 100%|██████████| 4653/4653 [01:10<00:00, 65.55it/s]\n"
          ]
        },
        {
          "name": "stdout",
          "output_type": "stream",
          "text": [
            "Epoch 24, Training Loss: 0.00055, Validation Loss: 0.00127\n"
          ]
        },
        {
          "name": "stderr",
          "output_type": "stream",
          "text": [
            "FineTuning Epoch 25/100: 100%|██████████| 4653/4653 [01:10<00:00, 65.76it/s]\n"
          ]
        },
        {
          "name": "stdout",
          "output_type": "stream",
          "text": [
            "Epoch 25, Training Loss: 0.00054, Validation Loss: 0.00120\n"
          ]
        },
        {
          "name": "stderr",
          "output_type": "stream",
          "text": [
            "FineTuning Epoch 26/100: 100%|██████████| 4653/4653 [01:10<00:00, 65.85it/s]\n"
          ]
        },
        {
          "name": "stdout",
          "output_type": "stream",
          "text": [
            "Epoch 26, Training Loss: 0.00054, Validation Loss: 0.00113\n"
          ]
        },
        {
          "name": "stderr",
          "output_type": "stream",
          "text": [
            "FineTuning Epoch 27/100: 100%|██████████| 4653/4653 [01:10<00:00, 65.83it/s]\n"
          ]
        },
        {
          "name": "stdout",
          "output_type": "stream",
          "text": [
            "Epoch 27, Training Loss: 0.00054, Validation Loss: 0.00104\n"
          ]
        },
        {
          "name": "stderr",
          "output_type": "stream",
          "text": [
            "FineTuning Epoch 28/100: 100%|██████████| 4653/4653 [01:10<00:00, 65.77it/s]\n"
          ]
        },
        {
          "name": "stdout",
          "output_type": "stream",
          "text": [
            "Epoch 28, Training Loss: 0.00053, Validation Loss: 0.00101\n"
          ]
        },
        {
          "name": "stderr",
          "output_type": "stream",
          "text": [
            "FineTuning Epoch 29/100: 100%|██████████| 4653/4653 [01:10<00:00, 65.90it/s]\n"
          ]
        },
        {
          "name": "stdout",
          "output_type": "stream",
          "text": [
            "Epoch 29, Training Loss: 0.00053, Validation Loss: 0.00099\n"
          ]
        },
        {
          "name": "stderr",
          "output_type": "stream",
          "text": [
            "FineTuning Epoch 30/100: 100%|██████████| 4653/4653 [01:10<00:00, 65.78it/s]\n"
          ]
        },
        {
          "name": "stdout",
          "output_type": "stream",
          "text": [
            "Epoch 30, Training Loss: 0.00053, Validation Loss: 0.00096\n"
          ]
        },
        {
          "name": "stderr",
          "output_type": "stream",
          "text": [
            "FineTuning Epoch 31/100: 100%|██████████| 4653/4653 [01:11<00:00, 65.41it/s]\n"
          ]
        },
        {
          "name": "stdout",
          "output_type": "stream",
          "text": [
            "Epoch 31, Training Loss: 0.00052, Validation Loss: 0.00093\n"
          ]
        },
        {
          "name": "stderr",
          "output_type": "stream",
          "text": [
            "FineTuning Epoch 32/100: 100%|██████████| 4653/4653 [01:11<00:00, 64.94it/s]\n"
          ]
        },
        {
          "name": "stdout",
          "output_type": "stream",
          "text": [
            "Epoch 32, Training Loss: 0.00052, Validation Loss: 0.00091\n"
          ]
        },
        {
          "name": "stderr",
          "output_type": "stream",
          "text": [
            "FineTuning Epoch 33/100: 100%|██████████| 4653/4653 [01:14<00:00, 62.71it/s]\n"
          ]
        },
        {
          "name": "stdout",
          "output_type": "stream",
          "text": [
            "Epoch 33, Training Loss: 0.00052, Validation Loss: 0.00089\n"
          ]
        },
        {
          "name": "stderr",
          "output_type": "stream",
          "text": [
            "FineTuning Epoch 34/100: 100%|██████████| 4653/4653 [01:14<00:00, 62.34it/s]\n"
          ]
        },
        {
          "name": "stdout",
          "output_type": "stream",
          "text": [
            "Epoch 34, Training Loss: 0.00052, Validation Loss: 0.00088\n"
          ]
        },
        {
          "name": "stderr",
          "output_type": "stream",
          "text": [
            "FineTuning Epoch 35/100: 100%|██████████| 4653/4653 [01:14<00:00, 62.29it/s]\n"
          ]
        },
        {
          "name": "stdout",
          "output_type": "stream",
          "text": [
            "Epoch 35, Training Loss: 0.00051, Validation Loss: 0.00085\n"
          ]
        },
        {
          "name": "stderr",
          "output_type": "stream",
          "text": [
            "FineTuning Epoch 36/100: 100%|██████████| 4653/4653 [01:14<00:00, 62.66it/s]\n"
          ]
        },
        {
          "name": "stdout",
          "output_type": "stream",
          "text": [
            "Epoch 36, Training Loss: 0.00051, Validation Loss: 0.00082\n"
          ]
        },
        {
          "name": "stderr",
          "output_type": "stream",
          "text": [
            "FineTuning Epoch 37/100: 100%|██████████| 4653/4653 [01:14<00:00, 62.59it/s]\n"
          ]
        },
        {
          "name": "stdout",
          "output_type": "stream",
          "text": [
            "Epoch 37, Training Loss: 0.00051, Validation Loss: 0.00080\n"
          ]
        },
        {
          "name": "stderr",
          "output_type": "stream",
          "text": [
            "FineTuning Epoch 38/100: 100%|██████████| 4653/4653 [01:11<00:00, 64.91it/s]\n"
          ]
        },
        {
          "name": "stdout",
          "output_type": "stream",
          "text": [
            "Epoch 38, Training Loss: 0.00051, Validation Loss: 0.00077\n"
          ]
        },
        {
          "name": "stderr",
          "output_type": "stream",
          "text": [
            "FineTuning Epoch 39/100: 100%|██████████| 4653/4653 [01:11<00:00, 65.51it/s]\n"
          ]
        },
        {
          "name": "stdout",
          "output_type": "stream",
          "text": [
            "Epoch 39, Training Loss: 0.00051, Validation Loss: 0.00076\n"
          ]
        },
        {
          "name": "stderr",
          "output_type": "stream",
          "text": [
            "FineTuning Epoch 40/100: 100%|██████████| 4653/4653 [01:11<00:00, 65.27it/s]\n"
          ]
        },
        {
          "name": "stdout",
          "output_type": "stream",
          "text": [
            "Epoch 40, Training Loss: 0.00050, Validation Loss: 0.00074\n"
          ]
        },
        {
          "name": "stderr",
          "output_type": "stream",
          "text": [
            "FineTuning Epoch 41/100: 100%|██████████| 4653/4653 [01:10<00:00, 65.66it/s]\n"
          ]
        },
        {
          "name": "stdout",
          "output_type": "stream",
          "text": [
            "Epoch 41, Training Loss: 0.00050, Validation Loss: 0.00075\n"
          ]
        },
        {
          "name": "stderr",
          "output_type": "stream",
          "text": [
            "FineTuning Epoch 42/100: 100%|██████████| 4653/4653 [01:10<00:00, 65.88it/s]\n"
          ]
        },
        {
          "name": "stdout",
          "output_type": "stream",
          "text": [
            "Epoch 42, Training Loss: 0.00050, Validation Loss: 0.00075\n"
          ]
        },
        {
          "name": "stderr",
          "output_type": "stream",
          "text": [
            "FineTuning Epoch 43/100: 100%|██████████| 4653/4653 [01:10<00:00, 65.71it/s]\n"
          ]
        },
        {
          "name": "stdout",
          "output_type": "stream",
          "text": [
            "Epoch 43, Training Loss: 0.00050, Validation Loss: 0.00073\n"
          ]
        },
        {
          "name": "stderr",
          "output_type": "stream",
          "text": [
            "FineTuning Epoch 44/100: 100%|██████████| 4653/4653 [01:11<00:00, 65.30it/s]\n"
          ]
        },
        {
          "name": "stdout",
          "output_type": "stream",
          "text": [
            "Epoch 44, Training Loss: 0.00050, Validation Loss: 0.00073\n"
          ]
        },
        {
          "name": "stderr",
          "output_type": "stream",
          "text": [
            "FineTuning Epoch 45/100: 100%|██████████| 4653/4653 [01:10<00:00, 65.70it/s]\n"
          ]
        },
        {
          "name": "stdout",
          "output_type": "stream",
          "text": [
            "Epoch 45, Training Loss: 0.00050, Validation Loss: 0.00073\n"
          ]
        },
        {
          "name": "stderr",
          "output_type": "stream",
          "text": [
            "FineTuning Epoch 46/100: 100%|██████████| 4653/4653 [01:11<00:00, 65.25it/s]\n"
          ]
        },
        {
          "name": "stdout",
          "output_type": "stream",
          "text": [
            "Epoch 46, Training Loss: 0.00050, Validation Loss: 0.00072\n"
          ]
        },
        {
          "name": "stderr",
          "output_type": "stream",
          "text": [
            "FineTuning Epoch 47/100: 100%|██████████| 4653/4653 [01:10<00:00, 65.96it/s]\n"
          ]
        },
        {
          "name": "stdout",
          "output_type": "stream",
          "text": [
            "Epoch 47, Training Loss: 0.00049, Validation Loss: 0.00070\n"
          ]
        },
        {
          "name": "stderr",
          "output_type": "stream",
          "text": [
            "FineTuning Epoch 48/100: 100%|██████████| 4653/4653 [01:10<00:00, 65.89it/s]\n"
          ]
        },
        {
          "name": "stdout",
          "output_type": "stream",
          "text": [
            "Epoch 48, Training Loss: 0.00049, Validation Loss: 0.00070\n"
          ]
        },
        {
          "name": "stderr",
          "output_type": "stream",
          "text": [
            "FineTuning Epoch 49/100: 100%|██████████| 4653/4653 [01:10<00:00, 66.10it/s]\n"
          ]
        },
        {
          "name": "stdout",
          "output_type": "stream",
          "text": [
            "Epoch 49, Training Loss: 0.00049, Validation Loss: 0.00070\n"
          ]
        },
        {
          "name": "stderr",
          "output_type": "stream",
          "text": [
            "FineTuning Epoch 50/100: 100%|██████████| 4653/4653 [01:10<00:00, 65.84it/s]\n"
          ]
        },
        {
          "name": "stdout",
          "output_type": "stream",
          "text": [
            "Epoch 50, Training Loss: 0.00049, Validation Loss: 0.00068\n"
          ]
        },
        {
          "name": "stderr",
          "output_type": "stream",
          "text": [
            "FineTuning Epoch 51/100: 100%|██████████| 4653/4653 [01:10<00:00, 66.01it/s]\n"
          ]
        },
        {
          "name": "stdout",
          "output_type": "stream",
          "text": [
            "Epoch 51, Training Loss: 0.00049, Validation Loss: 0.00068\n"
          ]
        },
        {
          "name": "stderr",
          "output_type": "stream",
          "text": [
            "FineTuning Epoch 52/100: 100%|██████████| 4653/4653 [01:10<00:00, 65.88it/s]\n"
          ]
        },
        {
          "name": "stdout",
          "output_type": "stream",
          "text": [
            "Epoch 52, Training Loss: 0.00049, Validation Loss: 0.00068\n"
          ]
        },
        {
          "name": "stderr",
          "output_type": "stream",
          "text": [
            "FineTuning Epoch 53/100: 100%|██████████| 4653/4653 [01:10<00:00, 65.95it/s]\n"
          ]
        },
        {
          "name": "stdout",
          "output_type": "stream",
          "text": [
            "Epoch 53, Training Loss: 0.00049, Validation Loss: 0.00069\n"
          ]
        },
        {
          "name": "stderr",
          "output_type": "stream",
          "text": [
            "FineTuning Epoch 54/100: 100%|██████████| 4653/4653 [01:13<00:00, 63.08it/s]\n"
          ]
        },
        {
          "name": "stdout",
          "output_type": "stream",
          "text": [
            "Epoch 54, Training Loss: 0.00048, Validation Loss: 0.00068\n"
          ]
        },
        {
          "name": "stderr",
          "output_type": "stream",
          "text": [
            "FineTuning Epoch 55/100: 100%|██████████| 4653/4653 [01:13<00:00, 62.92it/s]\n"
          ]
        },
        {
          "name": "stdout",
          "output_type": "stream",
          "text": [
            "Epoch 55, Training Loss: 0.00048, Validation Loss: 0.00068\n"
          ]
        },
        {
          "name": "stderr",
          "output_type": "stream",
          "text": [
            "FineTuning Epoch 56/100: 100%|██████████| 4653/4653 [01:14<00:00, 62.63it/s]\n"
          ]
        },
        {
          "name": "stdout",
          "output_type": "stream",
          "text": [
            "Epoch 56, Training Loss: 0.00048, Validation Loss: 0.00067\n"
          ]
        },
        {
          "name": "stderr",
          "output_type": "stream",
          "text": [
            "FineTuning Epoch 57/100: 100%|██████████| 4653/4653 [01:14<00:00, 62.47it/s]\n"
          ]
        },
        {
          "name": "stdout",
          "output_type": "stream",
          "text": [
            "Epoch 57, Training Loss: 0.00048, Validation Loss: 0.00068\n"
          ]
        },
        {
          "name": "stderr",
          "output_type": "stream",
          "text": [
            "FineTuning Epoch 58/100: 100%|██████████| 4653/4653 [01:14<00:00, 62.46it/s]\n"
          ]
        },
        {
          "name": "stdout",
          "output_type": "stream",
          "text": [
            "Epoch 58, Training Loss: 0.00048, Validation Loss: 0.00069\n"
          ]
        },
        {
          "name": "stderr",
          "output_type": "stream",
          "text": [
            "FineTuning Epoch 59/100: 100%|██████████| 4653/4653 [01:14<00:00, 62.83it/s]\n"
          ]
        },
        {
          "name": "stdout",
          "output_type": "stream",
          "text": [
            "Epoch 59, Training Loss: 0.00048, Validation Loss: 0.00071\n"
          ]
        },
        {
          "name": "stderr",
          "output_type": "stream",
          "text": [
            "FineTuning Epoch 60/100: 100%|██████████| 4653/4653 [01:10<00:00, 65.65it/s]\n"
          ]
        },
        {
          "name": "stdout",
          "output_type": "stream",
          "text": [
            "Epoch 60, Training Loss: 0.00048, Validation Loss: 0.00068\n"
          ]
        },
        {
          "name": "stderr",
          "output_type": "stream",
          "text": [
            "FineTuning Epoch 61/100: 100%|██████████| 4653/4653 [01:10<00:00, 65.94it/s]\n"
          ]
        },
        {
          "name": "stdout",
          "output_type": "stream",
          "text": [
            "Epoch 61, Training Loss: 0.00048, Validation Loss: 0.00069\n"
          ]
        },
        {
          "name": "stderr",
          "output_type": "stream",
          "text": [
            "FineTuning Epoch 62/100: 100%|██████████| 4653/4653 [01:10<00:00, 66.12it/s]\n"
          ]
        },
        {
          "name": "stdout",
          "output_type": "stream",
          "text": [
            "Epoch 62, Training Loss: 0.00048, Validation Loss: 0.00069\n"
          ]
        },
        {
          "name": "stderr",
          "output_type": "stream",
          "text": [
            "FineTuning Epoch 63/100: 100%|██████████| 4653/4653 [01:10<00:00, 65.76it/s]\n"
          ]
        },
        {
          "name": "stdout",
          "output_type": "stream",
          "text": [
            "Epoch 63, Training Loss: 0.00048, Validation Loss: 0.00070\n"
          ]
        },
        {
          "name": "stderr",
          "output_type": "stream",
          "text": [
            "FineTuning Epoch 64/100: 100%|██████████| 4653/4653 [01:10<00:00, 65.57it/s]\n"
          ]
        },
        {
          "name": "stdout",
          "output_type": "stream",
          "text": [
            "Epoch 64, Training Loss: 0.00047, Validation Loss: 0.00071\n"
          ]
        },
        {
          "name": "stderr",
          "output_type": "stream",
          "text": [
            "FineTuning Epoch 65/100: 100%|██████████| 4653/4653 [01:11<00:00, 65.25it/s]\n"
          ]
        },
        {
          "name": "stdout",
          "output_type": "stream",
          "text": [
            "Epoch 65, Training Loss: 0.00047, Validation Loss: 0.00069\n"
          ]
        },
        {
          "name": "stderr",
          "output_type": "stream",
          "text": [
            "FineTuning Epoch 66/100: 100%|██████████| 4653/4653 [01:10<00:00, 65.88it/s]\n"
          ]
        },
        {
          "name": "stdout",
          "output_type": "stream",
          "text": [
            "Epoch 66, Training Loss: 0.00047, Validation Loss: 0.00072\n"
          ]
        },
        {
          "name": "stderr",
          "output_type": "stream",
          "text": [
            "FineTuning Epoch 67/100: 100%|██████████| 4653/4653 [01:10<00:00, 65.94it/s]\n"
          ]
        },
        {
          "name": "stdout",
          "output_type": "stream",
          "text": [
            "Epoch 67, Training Loss: 0.00047, Validation Loss: 0.00070\n"
          ]
        },
        {
          "name": "stderr",
          "output_type": "stream",
          "text": [
            "FineTuning Epoch 68/100: 100%|██████████| 4653/4653 [01:10<00:00, 66.08it/s]\n"
          ]
        },
        {
          "name": "stdout",
          "output_type": "stream",
          "text": [
            "Epoch 68, Training Loss: 0.00047, Validation Loss: 0.00070\n"
          ]
        },
        {
          "name": "stderr",
          "output_type": "stream",
          "text": [
            "FineTuning Epoch 69/100: 100%|██████████| 4653/4653 [01:09<00:00, 66.55it/s]\n"
          ]
        },
        {
          "name": "stdout",
          "output_type": "stream",
          "text": [
            "Epoch 69, Training Loss: 0.00047, Validation Loss: 0.00073\n"
          ]
        },
        {
          "name": "stderr",
          "output_type": "stream",
          "text": [
            "FineTuning Epoch 70/100: 100%|██████████| 4653/4653 [01:10<00:00, 66.31it/s]\n"
          ]
        },
        {
          "name": "stdout",
          "output_type": "stream",
          "text": [
            "Epoch 70, Training Loss: 0.00047, Validation Loss: 0.00073\n"
          ]
        },
        {
          "name": "stderr",
          "output_type": "stream",
          "text": [
            "FineTuning Epoch 71/100: 100%|██████████| 4653/4653 [01:10<00:00, 66.18it/s]\n"
          ]
        },
        {
          "name": "stdout",
          "output_type": "stream",
          "text": [
            "Epoch 71, Training Loss: 0.00047, Validation Loss: 0.00078\n"
          ]
        },
        {
          "name": "stderr",
          "output_type": "stream",
          "text": [
            "FineTuning Epoch 72/100: 100%|██████████| 4653/4653 [01:10<00:00, 65.90it/s]\n"
          ]
        },
        {
          "name": "stdout",
          "output_type": "stream",
          "text": [
            "Epoch 72, Training Loss: 0.00047, Validation Loss: 0.00069\n"
          ]
        },
        {
          "name": "stderr",
          "output_type": "stream",
          "text": [
            "FineTuning Epoch 73/100: 100%|██████████| 4653/4653 [01:11<00:00, 65.51it/s]\n"
          ]
        },
        {
          "name": "stdout",
          "output_type": "stream",
          "text": [
            "Epoch 73, Training Loss: 0.00047, Validation Loss: 0.00073\n"
          ]
        },
        {
          "name": "stderr",
          "output_type": "stream",
          "text": [
            "FineTuning Epoch 74/100: 100%|██████████| 4653/4653 [01:10<00:00, 66.04it/s]\n"
          ]
        },
        {
          "name": "stdout",
          "output_type": "stream",
          "text": [
            "Epoch 74, Training Loss: 0.00046, Validation Loss: 0.00076\n"
          ]
        },
        {
          "name": "stderr",
          "output_type": "stream",
          "text": [
            "FineTuning Epoch 75/100: 100%|██████████| 4653/4653 [01:10<00:00, 66.14it/s]\n"
          ]
        },
        {
          "name": "stdout",
          "output_type": "stream",
          "text": [
            "Epoch 75, Training Loss: 0.00046, Validation Loss: 0.00073\n"
          ]
        },
        {
          "name": "stderr",
          "output_type": "stream",
          "text": [
            "FineTuning Epoch 76/100: 100%|██████████| 4653/4653 [01:10<00:00, 66.31it/s]\n"
          ]
        },
        {
          "name": "stdout",
          "output_type": "stream",
          "text": [
            "Epoch 76, Training Loss: 0.00046, Validation Loss: 0.00077\n"
          ]
        },
        {
          "name": "stderr",
          "output_type": "stream",
          "text": [
            "FineTuning Epoch 77/100: 100%|██████████| 4653/4653 [01:10<00:00, 65.79it/s]\n"
          ]
        },
        {
          "name": "stdout",
          "output_type": "stream",
          "text": [
            "Epoch 77, Training Loss: 0.00046, Validation Loss: 0.00072\n"
          ]
        },
        {
          "name": "stderr",
          "output_type": "stream",
          "text": [
            "FineTuning Epoch 78/100: 100%|██████████| 4653/4653 [01:10<00:00, 66.37it/s]\n"
          ]
        },
        {
          "name": "stdout",
          "output_type": "stream",
          "text": [
            "Epoch 78, Training Loss: 0.00046, Validation Loss: 0.00073\n"
          ]
        },
        {
          "name": "stderr",
          "output_type": "stream",
          "text": [
            "FineTuning Epoch 79/100: 100%|██████████| 4653/4653 [01:11<00:00, 65.37it/s]\n"
          ]
        },
        {
          "name": "stdout",
          "output_type": "stream",
          "text": [
            "Epoch 79, Training Loss: 0.00046, Validation Loss: 0.00074\n"
          ]
        },
        {
          "name": "stderr",
          "output_type": "stream",
          "text": [
            "FineTuning Epoch 80/100: 100%|██████████| 4653/4653 [01:10<00:00, 66.00it/s]\n"
          ]
        },
        {
          "name": "stdout",
          "output_type": "stream",
          "text": [
            "Epoch 80, Training Loss: 0.00046, Validation Loss: 0.00070\n"
          ]
        },
        {
          "name": "stderr",
          "output_type": "stream",
          "text": [
            "FineTuning Epoch 81/100: 100%|██████████| 4653/4653 [01:10<00:00, 65.87it/s]\n"
          ]
        },
        {
          "name": "stdout",
          "output_type": "stream",
          "text": [
            "Epoch 81, Training Loss: 0.00046, Validation Loss: 0.00069\n"
          ]
        },
        {
          "name": "stderr",
          "output_type": "stream",
          "text": [
            "FineTuning Epoch 82/100: 100%|██████████| 4653/4653 [01:11<00:00, 65.53it/s]\n"
          ]
        },
        {
          "name": "stdout",
          "output_type": "stream",
          "text": [
            "Epoch 82, Training Loss: 0.00046, Validation Loss: 0.00070\n"
          ]
        },
        {
          "name": "stderr",
          "output_type": "stream",
          "text": [
            "FineTuning Epoch 83/100: 100%|██████████| 4653/4653 [01:10<00:00, 66.00it/s]\n"
          ]
        },
        {
          "name": "stdout",
          "output_type": "stream",
          "text": [
            "Epoch 83, Training Loss: 0.00046, Validation Loss: 0.00071\n"
          ]
        },
        {
          "name": "stderr",
          "output_type": "stream",
          "text": [
            "FineTuning Epoch 84/100: 100%|██████████| 4653/4653 [01:10<00:00, 65.88it/s]\n"
          ]
        },
        {
          "name": "stdout",
          "output_type": "stream",
          "text": [
            "Epoch 84, Training Loss: 0.00046, Validation Loss: 0.00072\n"
          ]
        },
        {
          "name": "stderr",
          "output_type": "stream",
          "text": [
            "FineTuning Epoch 85/100: 100%|██████████| 4653/4653 [01:10<00:00, 66.03it/s]\n"
          ]
        },
        {
          "name": "stdout",
          "output_type": "stream",
          "text": [
            "Epoch 85, Training Loss: 0.00045, Validation Loss: 0.00073\n"
          ]
        },
        {
          "name": "stderr",
          "output_type": "stream",
          "text": [
            "FineTuning Epoch 86/100: 100%|██████████| 4653/4653 [01:10<00:00, 65.76it/s]\n"
          ]
        },
        {
          "name": "stdout",
          "output_type": "stream",
          "text": [
            "Epoch 86, Training Loss: 0.00045, Validation Loss: 0.00071\n"
          ]
        },
        {
          "name": "stderr",
          "output_type": "stream",
          "text": [
            "FineTuning Epoch 87/100: 100%|██████████| 4653/4653 [01:11<00:00, 65.36it/s]\n"
          ]
        },
        {
          "name": "stdout",
          "output_type": "stream",
          "text": [
            "Epoch 87, Training Loss: 0.00045, Validation Loss: 0.00071\n"
          ]
        },
        {
          "name": "stderr",
          "output_type": "stream",
          "text": [
            "FineTuning Epoch 88/100: 100%|██████████| 4653/4653 [01:11<00:00, 65.05it/s]\n"
          ]
        },
        {
          "name": "stdout",
          "output_type": "stream",
          "text": [
            "Epoch 88, Training Loss: 0.00045, Validation Loss: 0.00076\n"
          ]
        },
        {
          "name": "stderr",
          "output_type": "stream",
          "text": [
            "FineTuning Epoch 89/100: 100%|██████████| 4653/4653 [01:11<00:00, 65.49it/s]\n"
          ]
        },
        {
          "name": "stdout",
          "output_type": "stream",
          "text": [
            "Epoch 89, Training Loss: 0.00045, Validation Loss: 0.00074\n"
          ]
        },
        {
          "name": "stderr",
          "output_type": "stream",
          "text": [
            "FineTuning Epoch 90/100: 100%|██████████| 4653/4653 [01:10<00:00, 65.79it/s]\n"
          ]
        },
        {
          "name": "stdout",
          "output_type": "stream",
          "text": [
            "Epoch 90, Training Loss: 0.00045, Validation Loss: 0.00073\n"
          ]
        },
        {
          "name": "stderr",
          "output_type": "stream",
          "text": [
            "FineTuning Epoch 91/100: 100%|██████████| 4653/4653 [01:10<00:00, 66.17it/s]\n"
          ]
        },
        {
          "name": "stdout",
          "output_type": "stream",
          "text": [
            "Epoch 91, Training Loss: 0.00045, Validation Loss: 0.00072\n"
          ]
        },
        {
          "name": "stderr",
          "output_type": "stream",
          "text": [
            "FineTuning Epoch 92/100: 100%|██████████| 4653/4653 [01:11<00:00, 65.38it/s]\n"
          ]
        },
        {
          "name": "stdout",
          "output_type": "stream",
          "text": [
            "Epoch 92, Training Loss: 0.00045, Validation Loss: 0.00070\n"
          ]
        },
        {
          "name": "stderr",
          "output_type": "stream",
          "text": [
            "FineTuning Epoch 93/100: 100%|██████████| 4653/4653 [01:10<00:00, 66.00it/s]\n"
          ]
        },
        {
          "name": "stdout",
          "output_type": "stream",
          "text": [
            "Epoch 93, Training Loss: 0.00045, Validation Loss: 0.00070\n"
          ]
        },
        {
          "name": "stderr",
          "output_type": "stream",
          "text": [
            "FineTuning Epoch 94/100: 100%|██████████| 4653/4653 [01:11<00:00, 65.22it/s]\n"
          ]
        },
        {
          "name": "stdout",
          "output_type": "stream",
          "text": [
            "Epoch 94, Training Loss: 0.00045, Validation Loss: 0.00071\n"
          ]
        },
        {
          "name": "stderr",
          "output_type": "stream",
          "text": [
            "FineTuning Epoch 95/100: 100%|██████████| 4653/4653 [01:10<00:00, 66.33it/s]\n"
          ]
        },
        {
          "name": "stdout",
          "output_type": "stream",
          "text": [
            "Epoch 95, Training Loss: 0.00045, Validation Loss: 0.00070\n"
          ]
        },
        {
          "name": "stderr",
          "output_type": "stream",
          "text": [
            "FineTuning Epoch 96/100: 100%|██████████| 4653/4653 [01:11<00:00, 65.18it/s]\n"
          ]
        },
        {
          "name": "stdout",
          "output_type": "stream",
          "text": [
            "Epoch 96, Training Loss: 0.00045, Validation Loss: 0.00072\n"
          ]
        },
        {
          "name": "stderr",
          "output_type": "stream",
          "text": [
            "FineTuning Epoch 97/100: 100%|██████████| 4653/4653 [01:11<00:00, 65.32it/s]\n"
          ]
        },
        {
          "name": "stdout",
          "output_type": "stream",
          "text": [
            "Epoch 97, Training Loss: 0.00045, Validation Loss: 0.00072\n"
          ]
        },
        {
          "name": "stderr",
          "output_type": "stream",
          "text": [
            "FineTuning Epoch 98/100: 100%|██████████| 4653/4653 [01:11<00:00, 65.44it/s]\n"
          ]
        },
        {
          "name": "stdout",
          "output_type": "stream",
          "text": [
            "Epoch 98, Training Loss: 0.00044, Validation Loss: 0.00074\n"
          ]
        },
        {
          "name": "stderr",
          "output_type": "stream",
          "text": [
            "FineTuning Epoch 99/100: 100%|██████████| 4653/4653 [01:11<00:00, 65.51it/s]\n"
          ]
        },
        {
          "name": "stdout",
          "output_type": "stream",
          "text": [
            "Epoch 99, Training Loss: 0.00044, Validation Loss: 0.00096\n"
          ]
        },
        {
          "name": "stderr",
          "output_type": "stream",
          "text": [
            "FineTuning Epoch 100/100: 100%|██████████| 4653/4653 [01:10<00:00, 65.99it/s]\n"
          ]
        },
        {
          "name": "stdout",
          "output_type": "stream",
          "text": [
            "Epoch 100, Training Loss: 0.00044, Validation Loss: 0.00069\n"
          ]
        },
        {
          "data": {
            "image/png": "[encoded data removed]",
            "text/plain": [
              "<Figure size 1000x600 with 1 Axes>"
            ]
          },
          "metadata": {},
          "output_type": "display_data"
        }
      ],
      "source": [
        "# 학습 및 검증 손실 저장용 리스트\n",
        "train_losses = []\n",
        "val_losses = []\n",
        "\n",
        "# FineTuning 학습 및 검증\n",
        "for epoch in range(config_finetuning[\"num_epochs\"]):\n",
        "    # 훈련 단계\n",
        "    model_finetuning.train()\n",
        "    running_loss = 0.0\n",
        "    for inputs, targets in tqdm(train_loader_finetuning, desc=f\"FineTuning Epoch {epoch + 1}/{config_finetuning['num_epochs']}\"):\n",
        "        inputs, targets = inputs.to(device), targets.to(device)\n",
        "        optimizer_finetuning.zero_grad()\n",
        "        loss = criterion(model_finetuning(inputs), targets)\n",
        "        loss.backward()\n",
        "        optimizer_finetuning.step()\n",
        "        running_loss += loss.item()\n",
        "\n",
        "    # 검증 단계\n",
        "    model_finetuning.eval()\n",
        "    val_loss = 0.0\n",
        "    with torch.no_grad():\n",
        "        for inputs, targets in val_loader_finetuning:\n",
        "            inputs, targets = inputs.to(device), targets.to(device)\n",
        "            loss = criterion(model_finetuning(inputs), targets)\n",
        "            val_loss += loss.item()\n",
        "\n",
        "    # 손실 값 기록\n",
        "    train_loss = running_loss / len(train_loader_finetuning)\n",
        "    val_loss = val_loss / len(val_loader_finetuning)\n",
        "    train_losses.append(train_loss)\n",
        "    val_losses.append(val_loss)\n",
        "\n",
        "    # Epoch 결과 출력\n",
        "    print(f\"Epoch {epoch + 1}, Training Loss: {train_loss:.5f}, Validation Loss: {val_loss:.5f}\")\n",
        "\n",
        "# 학습 및 검증 손실 그래프 시각화\n",
        "plt.figure(figsize=(10, 6))\n",
        "plt.plot(range(1, config_finetuning[\"num_epochs\"] + 1), train_losses, label=\"Training Loss\")\n",
        "plt.plot(range(1, config_finetuning[\"num_epochs\"] + 1), val_losses, label=\"Validation Loss\")\n",
        "plt.xlabel(\"Epochs\")\n",
        "plt.ylabel(\"Loss\")\n",
        "plt.title(\"Training and Validation Loss\")\n",
        "plt.legend()\n",
        "plt.grid()\n",
        "plt.show()"
      ]
    },
    {
      "cell_type": "code",
      "execution_count": null,
      "metadata": {
        "colab": {
          "background_save": true
        },
        "id": "dcNEQO3VCXmF"
      },
      "outputs": [],
      "source": [
        "def inverse_transform(scaler, data, feature_columns_with_target):\n",
        "    \"\"\"\n",
        "    데이터 역정규화 함수\n",
        "    :param scaler: MinMaxScaler 객체\n",
        "    :param data: 정규화된 다중 출력 데이터 (numpy 배열, shape: [샘플 수, 출력 수])\n",
        "    :param feature_columns_with_target: feature와 target column 이름을 포함한 리스트\n",
        "    :return: target columns의 역정규화된 값 (numpy 배열, shape: [샘플 수, 출력 수])\n",
        "    \"\"\"\n",
        "    num_features = len(feature_columns_with_target)\n",
        "    full_data = np.zeros((data.shape[0], num_features))  # feature와 target column 크기\n",
        "    full_data[:, -data.shape[1]:] = data  # 예측된 target columns를 full_data에 맞춰 할당\n",
        "    inversed = scaler.inverse_transform(full_data)  # 역정규화\n",
        "    return inversed[:, -data.shape[1]:]  # target columns만 반환\n"
      ]
    },
    {
      "cell_type": "code",
      "execution_count": null,
      "metadata": {
        "colab": {
          "background_save": true
        },
        "id": "ZsBremcxwQW_",
        "outputId": "4864120c-5ce7-49a2-cbf8-8e8914b1d0c2"
      },
      "outputs": [
        {
          "name": "stdout",
          "output_type": "stream",
          "text": [
            "칼럼별 성능 지표:\n",
            "  공급온도1에 대한 역정규화된 RMSE: 0.6716\n",
            "  공급온도1에 대한 역정규화된 R²: 0.9921\n",
            "  천창좌개도에 대한 역정규화된 RMSE: 3.2485\n",
            "  천창좌개도에 대한 역정규화된 R²: 0.9935\n",
            "  천창우개도에 대한 역정규화된 RMSE: 3.1546\n",
            "  천창우개도에 대한 역정규화된 R²: 0.9939\n",
            "  커튼상개도에 대한 역정규화된 RMSE: 2.0604\n",
            "  커튼상개도에 대한 역정규화된 R²: 0.9979\n",
            "  커튼하개도에 대한 역정규화된 RMSE: 1.0292\n",
            "  커튼하개도에 대한 역정규화된 R²: 0.9995\n",
            "  측커튼개도에 대한 역정규화된 RMSE: 2.6369\n",
            "  측커튼개도에 대한 역정규화된 R²: 0.9967\n",
            "  외부커튼개도에 대한 역정규화된 RMSE: 4.4248\n",
            "  외부커튼개도에 대한 역정규화된 R²: 0.9914\n",
            "  3Way밸브1개도에 대한 역정규화된 RMSE: 3.8353\n",
            "  3Way밸브1개도에 대한 역정규화된 R²: 0.9703\n",
            "  3Way밸브2개도에 대한 역정규화된 RMSE: 3.1882\n",
            "  3Way밸브2개도에 대한 역정규화된 R²: 0.9927\n",
            "\n",
            "통합 성능 지표:\n",
            "  모든 타겟에 대한 역정규화된 통합 RMSE: 2.9376\n",
            "  모든 타겟에 대한 역정규화된 통합 R²: 0.9955\n"
          ]
        }
      ],
      "source": [
        "# 역정규화 함수는 기존 코드와 동일\n",
        "\n",
        "# 2022년도 테스트 데이터 예측 및 역정규화\n",
        "model_finetuning.eval()\n",
        "predictions = []\n",
        "actuals = []\n",
        "\n",
        "with torch.no_grad():\n",
        "    for inputs, targets in val_loader_finetuning:  # 테스트 데이터 로더\n",
        "        inputs = inputs.to(device)\n",
        "        output = model_finetuning(inputs).cpu().numpy()\n",
        "        predictions.append(output)\n",
        "        actuals.append(targets.cpu().numpy())\n",
        "\n",
        "# 예측값과 실제값 배열로 변환\n",
        "predictions = np.concatenate(predictions, axis=0)\n",
        "actuals = np.concatenate(actuals, axis=0)\n",
        "\n",
        "# 예측값과 실제값 역정규화\n",
        "feature_columns_with_target = config_finetuning[\"feature_columns\"] + config_finetuning[\"target_column\"]\n",
        "predictions_inverse = inverse_transform(finetuning_scaler, predictions, feature_columns_with_target)\n",
        "actuals_inverse = inverse_transform(finetuning_scaler, actuals, feature_columns_with_target)\n",
        "\n",
        "# target_column 이름 가져오기\n",
        "target_columns = config_finetuning[\"target_column\"]\n",
        "\n",
        "# 칼럼별 RMSE 및 R² 계산\n",
        "num_targets = len(target_columns)\n",
        "\n",
        "print(\"칼럼별 성능 지표:\")\n",
        "rmse_list = []\n",
        "r2_list = []\n",
        "\n",
        "for i, column_name in enumerate(target_columns):\n",
        "    # 각 칼럼의 RMSE 및 R² 계산\n",
        "    rmse = np.sqrt(mean_squared_error(actuals_inverse[:, i], predictions_inverse[:, i]))\n",
        "    r2 = r2_score(actuals_inverse[:, i], predictions_inverse[:, i])\n",
        "\n",
        "    rmse_list.append(rmse)\n",
        "    r2_list.append(r2)\n",
        "\n",
        "    print(f\"  {column_name}에 대한 역정규화된 RMSE: {rmse:.4f}\")\n",
        "    print(f\"  {column_name}에 대한 역정규화된 R²: {r2:.4f}\")\n",
        "\n",
        "# 모든 타겟 통합 RMSE 및 R² 계산\n",
        "actuals_flattened = actuals_inverse.flatten()\n",
        "predictions_flattened = predictions_inverse.flatten()\n",
        "\n",
        "rmse_combined = np.sqrt(mean_squared_error(actuals_flattened, predictions_flattened))\n",
        "r2_combined = r2_score(actuals_flattened, predictions_flattened)\n",
        "\n",
        "print(\"\\n통합 성능 지표:\")\n",
        "print(f\"  모든 타겟에 대한 역정규화된 통합 RMSE: {rmse_combined:.4f}\")\n",
        "print(f\"  모든 타겟에 대한 역정규화된 통합 R²: {r2_combined:.4f}\")"
      ]
    }
  ],
  "metadata": {
    "accelerator": "GPU",
    "colab": {
      "gpuType": "A100",
      "machine_shape": "hm",
      "provenance": []
    },
    "kernelspec": {
      "display_name": "Python 3",
      "name": "python3"
    },
    "language_info": {
      "name": "python"
    }
  },
  "nbformat": 4,
  "nbformat_minor": 0
}